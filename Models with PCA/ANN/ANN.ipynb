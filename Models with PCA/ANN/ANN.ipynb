{
 "cells": [
  {
   "cell_type": "code",
   "execution_count": 1,
   "id": "d4a8fab3",
   "metadata": {
    "scrolled": true
   },
   "outputs": [],
   "source": [
    "# Import necessary libraries\n",
    "import pandas as pd\n",
    "from sklearn.model_selection import train_test_split\n",
    "from sklearn.preprocessing import StandardScaler\n",
    "from sklearn.decomposition import PCA\n",
    "from sklearn.metrics import classification_report, accuracy_score\n",
    "from tensorflow import keras\n",
    "from tensorflow.keras.models import Sequential\n",
    "from tensorflow.keras.layers import Dense"
   ]
  },
  {
   "cell_type": "code",
   "execution_count": 2,
   "id": "4e5f4a76",
   "metadata": {},
   "outputs": [],
   "source": [
    "# Load the Wisconsin Breast Cancer dataset\n",
    "file_path = r\"C:\\Users\\Shaurya\\Downloads\\data.csv\"\n",
    "df = pd.read_csv(file_path)"
   ]
  },
  {
   "cell_type": "code",
   "execution_count": 3,
   "id": "770520bf",
   "metadata": {},
   "outputs": [],
   "source": [
    "# Drop unnecessary columns\n",
    "df = df.drop(columns=['id', 'Unnamed: 32'])"
   ]
  },
  {
   "cell_type": "code",
   "execution_count": 4,
   "id": "2d66e6af",
   "metadata": {},
   "outputs": [],
   "source": [
    "# Encode the 'diagnosis' column (M=1, B=0)\n",
    "from sklearn.preprocessing import LabelEncoder\n",
    "label_encoder = LabelEncoder()\n",
    "df['diagnosis'] = label_encoder.fit_transform(df['diagnosis'])"
   ]
  },
  {
   "cell_type": "code",
   "execution_count": 5,
   "id": "794e7ff3",
   "metadata": {},
   "outputs": [],
   "source": [
    "# Handle missing values by dropping rows with null values\n",
    "df = df.dropna()"
   ]
  },
  {
   "cell_type": "code",
   "execution_count": 6,
   "id": "e0482313",
   "metadata": {},
   "outputs": [],
   "source": [
    "# Split the dataset into features (X) and target variable (y)\n",
    "X = df.drop(columns=['diagnosis'])\n",
    "y = df['diagnosis']"
   ]
  },
  {
   "cell_type": "code",
   "execution_count": 7,
   "id": "4e42052c",
   "metadata": {},
   "outputs": [],
   "source": [
    "# Split the data into training and testing sets\n",
    "X_train, X_test, y_train, y_test = train_test_split(X, y, test_size=0.2, random_state=42)"
   ]
  },
  {
   "cell_type": "code",
   "execution_count": 8,
   "id": "c3c235d0",
   "metadata": {},
   "outputs": [],
   "source": [
    "# Standardize the features using StandardScaler\n",
    "scaler = StandardScaler()\n",
    "X_train_scaled = scaler.fit_transform(X_train)\n",
    "X_test_scaled = scaler.transform(X_test)"
   ]
  },
  {
   "cell_type": "code",
   "execution_count": 9,
   "id": "9dc237db",
   "metadata": {},
   "outputs": [],
   "source": [
    "# Apply PCA\n",
    "pca = PCA(n_components=10)  # You can adjust the number of components\n",
    "X_train_pca = pca.fit_transform(X_train_scaled)\n",
    "X_test_pca = pca.transform(X_test_scaled)"
   ]
  },
  {
   "cell_type": "code",
   "execution_count": 10,
   "id": "f6dbfcc2",
   "metadata": {},
   "outputs": [],
   "source": [
    "# Build the Neural Network model\n",
    "model = Sequential()\n",
    "model.add(Dense(units=16, activation='relu', input_dim=X_train_pca.shape[1]))\n",
    "model.add(Dense(units=8, activation='relu'))\n",
    "model.add(Dense(units=1, activation='sigmoid'))"
   ]
  },
  {
   "cell_type": "code",
   "execution_count": 11,
   "id": "082f2825",
   "metadata": {},
   "outputs": [],
   "source": [
    "# Compile the model\n",
    "model.compile(optimizer='adam', loss='binary_crossentropy', metrics=['accuracy'])"
   ]
  },
  {
   "cell_type": "code",
   "execution_count": 12,
   "id": "fa588275",
   "metadata": {},
   "outputs": [
    {
     "name": "stdout",
     "output_type": "stream",
     "text": [
      "Epoch 1/50\n",
      "12/12 [==============================] - 1s 18ms/step - loss: 1.0499 - accuracy: 0.1951 - val_loss: 1.0093 - val_accuracy: 0.1538\n",
      "Epoch 2/50\n",
      "12/12 [==============================] - 0s 4ms/step - loss: 0.8883 - accuracy: 0.2885 - val_loss: 0.8543 - val_accuracy: 0.3077\n",
      "Epoch 3/50\n",
      "12/12 [==============================] - 0s 4ms/step - loss: 0.7588 - accuracy: 0.4258 - val_loss: 0.7401 - val_accuracy: 0.4725\n",
      "Epoch 4/50\n",
      "12/12 [==============================] - 0s 5ms/step - loss: 0.6594 - accuracy: 0.5742 - val_loss: 0.6533 - val_accuracy: 0.5934\n",
      "Epoch 5/50\n",
      "12/12 [==============================] - 0s 4ms/step - loss: 0.5796 - accuracy: 0.7005 - val_loss: 0.5862 - val_accuracy: 0.7033\n",
      "Epoch 6/50\n",
      "12/12 [==============================] - 0s 4ms/step - loss: 0.5146 - accuracy: 0.7830 - val_loss: 0.5306 - val_accuracy: 0.7692\n",
      "Epoch 7/50\n",
      "12/12 [==============================] - 0s 4ms/step - loss: 0.4586 - accuracy: 0.8516 - val_loss: 0.4815 - val_accuracy: 0.8132\n",
      "Epoch 8/50\n",
      "12/12 [==============================] - 0s 4ms/step - loss: 0.4095 - accuracy: 0.8819 - val_loss: 0.4392 - val_accuracy: 0.8681\n",
      "Epoch 9/50\n",
      "12/12 [==============================] - 0s 4ms/step - loss: 0.3686 - accuracy: 0.9093 - val_loss: 0.4024 - val_accuracy: 0.8681\n",
      "Epoch 10/50\n",
      "12/12 [==============================] - 0s 4ms/step - loss: 0.3318 - accuracy: 0.9258 - val_loss: 0.3698 - val_accuracy: 0.8681\n",
      "Epoch 11/50\n",
      "12/12 [==============================] - 0s 4ms/step - loss: 0.2989 - accuracy: 0.9258 - val_loss: 0.3417 - val_accuracy: 0.8681\n",
      "Epoch 12/50\n",
      "12/12 [==============================] - 0s 4ms/step - loss: 0.2711 - accuracy: 0.9286 - val_loss: 0.3152 - val_accuracy: 0.8791\n",
      "Epoch 13/50\n",
      "12/12 [==============================] - 0s 4ms/step - loss: 0.2464 - accuracy: 0.9396 - val_loss: 0.2923 - val_accuracy: 0.8901\n",
      "Epoch 14/50\n",
      "12/12 [==============================] - 0s 4ms/step - loss: 0.2257 - accuracy: 0.9451 - val_loss: 0.2730 - val_accuracy: 0.9011\n",
      "Epoch 15/50\n",
      "12/12 [==============================] - 0s 4ms/step - loss: 0.2085 - accuracy: 0.9505 - val_loss: 0.2555 - val_accuracy: 0.9011\n",
      "Epoch 16/50\n",
      "12/12 [==============================] - 0s 4ms/step - loss: 0.1929 - accuracy: 0.9505 - val_loss: 0.2402 - val_accuracy: 0.9231\n",
      "Epoch 17/50\n",
      "12/12 [==============================] - 0s 4ms/step - loss: 0.1799 - accuracy: 0.9505 - val_loss: 0.2254 - val_accuracy: 0.9231\n",
      "Epoch 18/50\n",
      "12/12 [==============================] - 0s 4ms/step - loss: 0.1677 - accuracy: 0.9533 - val_loss: 0.2136 - val_accuracy: 0.9341\n",
      "Epoch 19/50\n",
      "12/12 [==============================] - 0s 4ms/step - loss: 0.1575 - accuracy: 0.9533 - val_loss: 0.2026 - val_accuracy: 0.9560\n",
      "Epoch 20/50\n",
      "12/12 [==============================] - 0s 4ms/step - loss: 0.1485 - accuracy: 0.9533 - val_loss: 0.1909 - val_accuracy: 0.9560\n",
      "Epoch 21/50\n",
      "12/12 [==============================] - 0s 4ms/step - loss: 0.1395 - accuracy: 0.9533 - val_loss: 0.1823 - val_accuracy: 0.9560\n",
      "Epoch 22/50\n",
      "12/12 [==============================] - 0s 4ms/step - loss: 0.1319 - accuracy: 0.9560 - val_loss: 0.1742 - val_accuracy: 0.9560\n",
      "Epoch 23/50\n",
      "12/12 [==============================] - 0s 4ms/step - loss: 0.1248 - accuracy: 0.9615 - val_loss: 0.1666 - val_accuracy: 0.9560\n",
      "Epoch 24/50\n",
      "12/12 [==============================] - 0s 4ms/step - loss: 0.1182 - accuracy: 0.9643 - val_loss: 0.1594 - val_accuracy: 0.9560\n",
      "Epoch 25/50\n",
      "12/12 [==============================] - 0s 4ms/step - loss: 0.1120 - accuracy: 0.9698 - val_loss: 0.1537 - val_accuracy: 0.9560\n",
      "Epoch 26/50\n",
      "12/12 [==============================] - 0s 4ms/step - loss: 0.1067 - accuracy: 0.9753 - val_loss: 0.1471 - val_accuracy: 0.9560\n",
      "Epoch 27/50\n",
      "12/12 [==============================] - 0s 4ms/step - loss: 0.1014 - accuracy: 0.9753 - val_loss: 0.1422 - val_accuracy: 0.9560\n",
      "Epoch 28/50\n",
      "12/12 [==============================] - 0s 4ms/step - loss: 0.0968 - accuracy: 0.9753 - val_loss: 0.1369 - val_accuracy: 0.9560\n",
      "Epoch 29/50\n",
      "12/12 [==============================] - 0s 4ms/step - loss: 0.0928 - accuracy: 0.9808 - val_loss: 0.1315 - val_accuracy: 0.9560\n",
      "Epoch 30/50\n",
      "12/12 [==============================] - 0s 4ms/step - loss: 0.0884 - accuracy: 0.9808 - val_loss: 0.1282 - val_accuracy: 0.9670\n",
      "Epoch 31/50\n",
      "12/12 [==============================] - 0s 4ms/step - loss: 0.0851 - accuracy: 0.9808 - val_loss: 0.1241 - val_accuracy: 0.9670\n",
      "Epoch 32/50\n",
      "12/12 [==============================] - 0s 4ms/step - loss: 0.0814 - accuracy: 0.9835 - val_loss: 0.1210 - val_accuracy: 0.9670\n",
      "Epoch 33/50\n",
      "12/12 [==============================] - 0s 4ms/step - loss: 0.0783 - accuracy: 0.9863 - val_loss: 0.1183 - val_accuracy: 0.9780\n",
      "Epoch 34/50\n",
      "12/12 [==============================] - 0s 4ms/step - loss: 0.0755 - accuracy: 0.9863 - val_loss: 0.1161 - val_accuracy: 0.9780\n",
      "Epoch 35/50\n",
      "12/12 [==============================] - 0s 4ms/step - loss: 0.0732 - accuracy: 0.9863 - val_loss: 0.1132 - val_accuracy: 0.9780\n",
      "Epoch 36/50\n",
      "12/12 [==============================] - 0s 4ms/step - loss: 0.0708 - accuracy: 0.9863 - val_loss: 0.1124 - val_accuracy: 0.9780\n",
      "Epoch 37/50\n",
      "12/12 [==============================] - 0s 4ms/step - loss: 0.0688 - accuracy: 0.9863 - val_loss: 0.1105 - val_accuracy: 0.9780\n",
      "Epoch 38/50\n",
      "12/12 [==============================] - 0s 4ms/step - loss: 0.0666 - accuracy: 0.9890 - val_loss: 0.1084 - val_accuracy: 0.9780\n",
      "Epoch 39/50\n",
      "12/12 [==============================] - 0s 4ms/step - loss: 0.0648 - accuracy: 0.9890 - val_loss: 0.1066 - val_accuracy: 0.9780\n",
      "Epoch 40/50\n",
      "12/12 [==============================] - 0s 4ms/step - loss: 0.0631 - accuracy: 0.9890 - val_loss: 0.1050 - val_accuracy: 0.9780\n",
      "Epoch 41/50\n",
      "12/12 [==============================] - 0s 4ms/step - loss: 0.0613 - accuracy: 0.9890 - val_loss: 0.1038 - val_accuracy: 0.9780\n",
      "Epoch 42/50\n",
      "12/12 [==============================] - 0s 4ms/step - loss: 0.0596 - accuracy: 0.9890 - val_loss: 0.1021 - val_accuracy: 0.9780\n",
      "Epoch 43/50\n",
      "12/12 [==============================] - 0s 4ms/step - loss: 0.0582 - accuracy: 0.9890 - val_loss: 0.1003 - val_accuracy: 0.9780\n",
      "Epoch 44/50\n",
      "12/12 [==============================] - 0s 4ms/step - loss: 0.0567 - accuracy: 0.9890 - val_loss: 0.0988 - val_accuracy: 0.9780\n",
      "Epoch 45/50\n",
      "12/12 [==============================] - 0s 4ms/step - loss: 0.0554 - accuracy: 0.9890 - val_loss: 0.0970 - val_accuracy: 0.9780\n",
      "Epoch 46/50\n",
      "12/12 [==============================] - 0s 4ms/step - loss: 0.0540 - accuracy: 0.9890 - val_loss: 0.0956 - val_accuracy: 0.9780\n",
      "Epoch 47/50\n",
      "12/12 [==============================] - 0s 4ms/step - loss: 0.0527 - accuracy: 0.9890 - val_loss: 0.0943 - val_accuracy: 0.9780\n",
      "Epoch 48/50\n",
      "12/12 [==============================] - 0s 4ms/step - loss: 0.0514 - accuracy: 0.9890 - val_loss: 0.0942 - val_accuracy: 0.9780\n",
      "Epoch 49/50\n",
      "12/12 [==============================] - 0s 4ms/step - loss: 0.0505 - accuracy: 0.9890 - val_loss: 0.0932 - val_accuracy: 0.9780\n",
      "Epoch 50/50\n",
      "12/12 [==============================] - 0s 4ms/step - loss: 0.0493 - accuracy: 0.9890 - val_loss: 0.0924 - val_accuracy: 0.9780\n"
     ]
    },
    {
     "data": {
      "text/plain": [
       "<keras.src.callbacks.History at 0x2279c1d5290>"
      ]
     },
     "execution_count": 12,
     "metadata": {},
     "output_type": "execute_result"
    }
   ],
   "source": [
    "# Train the model\n",
    "model.fit(X_train_pca, y_train, epochs=50, batch_size=32, validation_split=0.2)"
   ]
  },
  {
   "cell_type": "code",
   "execution_count": 13,
   "id": "3eccb5b0",
   "metadata": {},
   "outputs": [
    {
     "name": "stdout",
     "output_type": "stream",
     "text": [
      "4/4 [==============================] - 0s 2ms/step\n"
     ]
    }
   ],
   "source": [
    "# Evaluate the model on the test set\n",
    "y_pred_prob = model.predict(X_test_pca)\n",
    "y_pred = (y_pred_prob > 0.5).astype(int)"
   ]
  },
  {
   "cell_type": "code",
   "execution_count": 14,
   "id": "c80f0971",
   "metadata": {},
   "outputs": [
    {
     "name": "stdout",
     "output_type": "stream",
     "text": [
      "Accuracy: 0.9737\n",
      "Classification Report:\n",
      "               precision    recall  f1-score   support\n",
      "\n",
      "           0       0.97      0.99      0.98        71\n",
      "           1       0.98      0.95      0.96        43\n",
      "\n",
      "    accuracy                           0.97       114\n",
      "   macro avg       0.97      0.97      0.97       114\n",
      "weighted avg       0.97      0.97      0.97       114\n",
      "\n"
     ]
    }
   ],
   "source": [
    "# Print accuracy and classification report\n",
    "accuracy = accuracy_score(y_test, y_pred)\n",
    "report = classification_report(y_test, y_pred)\n",
    "\n",
    "print(f\"Accuracy: {accuracy:.4f}\")\n",
    "print(\"Classification Report:\\n\", report)"
   ]
  },
  {
   "cell_type": "code",
   "execution_count": null,
   "id": "6ecb4514",
   "metadata": {},
   "outputs": [],
   "source": []
  }
 ],
 "metadata": {
  "kernelspec": {
   "display_name": "Python 3 (ipykernel)",
   "language": "python",
   "name": "python3"
  },
  "language_info": {
   "codemirror_mode": {
    "name": "ipython",
    "version": 3
   },
   "file_extension": ".py",
   "mimetype": "text/x-python",
   "name": "python",
   "nbconvert_exporter": "python",
   "pygments_lexer": "ipython3",
   "version": "3.11.5"
  }
 },
 "nbformat": 4,
 "nbformat_minor": 5
}
