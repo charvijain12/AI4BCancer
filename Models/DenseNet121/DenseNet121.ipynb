{
 "cells": [
  {
   "cell_type": "code",
   "execution_count": 1,
   "id": "bf270f3d",
   "metadata": {},
   "outputs": [
    {
     "name": "stdout",
     "output_type": "stream",
     "text": [
      "Epoch 1/10\n",
      "15/15 [==============================] - 19s 516ms/step - loss: 0.5114 - accuracy: 0.7429 - val_loss: 0.3752 - val_accuracy: 0.8860\n",
      "Epoch 2/10\n",
      "15/15 [==============================] - 3s 199ms/step - loss: 0.3984 - accuracy: 0.8615 - val_loss: 0.2918 - val_accuracy: 0.9298\n",
      "Epoch 3/10\n",
      "15/15 [==============================] - 3s 207ms/step - loss: 0.3486 - accuracy: 0.8549 - val_loss: 0.2513 - val_accuracy: 0.9474\n",
      "Epoch 4/10\n",
      "15/15 [==============================] - 3s 202ms/step - loss: 0.3280 - accuracy: 0.8703 - val_loss: 0.2317 - val_accuracy: 0.9298\n",
      "Epoch 5/10\n",
      "15/15 [==============================] - 3s 199ms/step - loss: 0.3107 - accuracy: 0.8681 - val_loss: 0.2119 - val_accuracy: 0.9474\n",
      "Epoch 6/10\n",
      "15/15 [==============================] - 3s 202ms/step - loss: 0.3023 - accuracy: 0.8659 - val_loss: 0.2023 - val_accuracy: 0.9561\n",
      "Epoch 7/10\n",
      "15/15 [==============================] - 3s 201ms/step - loss: 0.3006 - accuracy: 0.8703 - val_loss: 0.2035 - val_accuracy: 0.9386\n",
      "Epoch 8/10\n",
      "15/15 [==============================] - 3s 198ms/step - loss: 0.2872 - accuracy: 0.8725 - val_loss: 0.1922 - val_accuracy: 0.9561\n",
      "Epoch 9/10\n",
      "15/15 [==============================] - 3s 200ms/step - loss: 0.2824 - accuracy: 0.8725 - val_loss: 0.1919 - val_accuracy: 0.9474\n",
      "Epoch 10/10\n",
      "15/15 [==============================] - 3s 202ms/step - loss: 0.2765 - accuracy: 0.8725 - val_loss: 0.1829 - val_accuracy: 0.9561\n"
     ]
    }
   ],
   "source": [
    "import numpy as np\n",
    "import pandas as pd\n",
    "from sklearn.model_selection import train_test_split\n",
    "from sklearn.preprocessing import StandardScaler\n",
    "from tensorflow.keras.utils import to_categorical\n",
    "from tensorflow.keras import layers, models\n",
    "from tensorflow.keras.applications import DenseNet121\n",
    "from sklearn.metrics import classification_report, accuracy_score\n",
    "\n",
    "# Load and preprocess the dataset\n",
    "df = pd.read_csv('C:\\\\Users\\\\Shaurya\\\\Downloads\\\\data.csv')\n",
    "df = df.drop(['id', 'Unnamed: 32'], axis=1)\n",
    "X = df.drop('diagnosis', axis=1)\n",
    "y = df['diagnosis'].apply(lambda x: 1 if x == 'M' else 0)\n",
    "y = to_categorical(y)\n",
    "\n",
    "# Standardize the features\n",
    "scaler = StandardScaler()\n",
    "X_scaled = scaler.fit_transform(X)\n",
    "\n",
    "# Pad the data to get 36 features (6x6)\n",
    "X_padded = np.pad(X_scaled, ((0, 0), (0, 36 - X_scaled.shape[1])), 'constant')\n",
    "\n",
    "# Reshape the data to 6x6 and then pad it to 32x32\n",
    "X_reshaped = np.reshape(X_padded, (-1, 6, 6))\n",
    "X_padded = np.pad(X_reshaped, ((0, 0), (0, 26), (0, 26)), 'constant')\n",
    "\n",
    "# Add an additional dimension to mimic 3 channels (RGB)\n",
    "X_padded = np.stack((X_padded,)*3, axis=-1)\n",
    "\n",
    "# Split the data into train and test sets\n",
    "X_train, X_test, y_train, y_test = train_test_split(X_padded, y, test_size=0.2, random_state=42)\n",
    "\n",
    "# Load the DenseNet121 model\n",
    "base_model = DenseNet121(include_top=False, input_shape=(32, 32, 3), pooling='avg')\n",
    "base_model.trainable = False\n",
    "\n",
    "# Build and compile the model\n",
    "model = models.Sequential([\n",
    "    base_model,\n",
    "    layers.Flatten(),\n",
    "    layers.Dense(2, activation='softmax')\n",
    "])\n",
    "model.compile(optimizer='adam', loss='categorical_crossentropy', metrics=['accuracy'])\n",
    "\n",
    "# Train the model\n",
    "history = model.fit(X_train, y_train, epochs=10, batch_size=32, validation_data=(X_test, y_test))"
   ]
  },
  {
   "cell_type": "code",
   "execution_count": 2,
   "id": "80d14ac1",
   "metadata": {},
   "outputs": [
    {
     "name": "stdout",
     "output_type": "stream",
     "text": [
      "4/4 [==============================] - 4s 143ms/step\n",
      "Accuracy: 0.9561\n",
      "Classification Report:\n",
      "               precision    recall  f1-score   support\n",
      "\n",
      "           0       0.96      0.97      0.97        71\n",
      "           1       0.95      0.93      0.94        43\n",
      "\n",
      "    accuracy                           0.96       114\n",
      "   macro avg       0.96      0.95      0.95       114\n",
      "weighted avg       0.96      0.96      0.96       114\n",
      "\n"
     ]
    }
   ],
   "source": [
    "# Evaluate the model\n",
    "y_pred_prob = model.predict(X_test)\n",
    "y_pred = np.argmax(y_pred_prob, axis=1)\n",
    "y_true = np.argmax(y_test, axis=1)\n",
    "accuracy = accuracy_score(y_true, y_pred)\n",
    "report = classification_report(y_true, y_pred)\n",
    "\n",
    "# Print the results\n",
    "print(f\"Accuracy: {accuracy:.4f}\")\n",
    "print(\"Classification Report:\\n\", report)"
   ]
  },
  {
   "cell_type": "code",
   "execution_count": null,
   "id": "1023a766",
   "metadata": {},
   "outputs": [],
   "source": []
  }
 ],
 "metadata": {
  "kernelspec": {
   "display_name": "Python 3 (ipykernel)",
   "language": "python",
   "name": "python3"
  },
  "language_info": {
   "codemirror_mode": {
    "name": "ipython",
    "version": 3
   },
   "file_extension": ".py",
   "mimetype": "text/x-python",
   "name": "python",
   "nbconvert_exporter": "python",
   "pygments_lexer": "ipython3",
   "version": "3.11.5"
  }
 },
 "nbformat": 4,
 "nbformat_minor": 5
}
