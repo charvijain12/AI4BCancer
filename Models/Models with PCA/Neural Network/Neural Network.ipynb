{
 "cells": [
  {
   "cell_type": "code",
   "execution_count": 1,
   "id": "d4a8fab3",
   "metadata": {
    "scrolled": true
   },
   "outputs": [],
   "source": [
    "# Import necessary libraries\n",
    "import pandas as pd\n",
    "from sklearn.model_selection import train_test_split\n",
    "from sklearn.preprocessing import StandardScaler\n",
    "from sklearn.decomposition import PCA\n",
    "from tensorflow import keras\n",
    "from tensorflow.keras.models import Sequential\n",
    "from tensorflow.keras.layers import Dense\n",
    "from sklearn.metrics import classification_report, accuracy_score"
   ]
  },
  {
   "cell_type": "code",
   "execution_count": 2,
   "id": "4e5f4a76",
   "metadata": {},
   "outputs": [],
   "source": [
    "# Load the Wisconsin Breast Cancer dataset\n",
    "file_path = r\"C:\\Users\\Shaurya\\Downloads\\data.csv\"\n",
    "df = pd.read_csv(file_path)"
   ]
  },
  {
   "cell_type": "code",
   "execution_count": 3,
   "id": "770520bf",
   "metadata": {},
   "outputs": [],
   "source": [
    "# Drop unnecessary columns\n",
    "df = df.drop(columns=['id', 'Unnamed: 32'])"
   ]
  },
  {
   "cell_type": "code",
   "execution_count": 4,
   "id": "2d66e6af",
   "metadata": {},
   "outputs": [],
   "source": [
    "# Encode the 'diagnosis' column (M=1, B=0)\n",
    "from sklearn.preprocessing import LabelEncoder\n",
    "label_encoder = LabelEncoder()\n",
    "df['diagnosis'] = label_encoder.fit_transform(df['diagnosis'])"
   ]
  },
  {
   "cell_type": "code",
   "execution_count": 5,
   "id": "794e7ff3",
   "metadata": {},
   "outputs": [],
   "source": [
    "# Handle missing values by dropping rows with null values\n",
    "df = df.dropna()"
   ]
  },
  {
   "cell_type": "code",
   "execution_count": 6,
   "id": "e0482313",
   "metadata": {},
   "outputs": [],
   "source": [
    "# Split the dataset into features (X) and target variable (y)\n",
    "X = df.drop(columns=['diagnosis'])\n",
    "y = df['diagnosis']"
   ]
  },
  {
   "cell_type": "code",
   "execution_count": 7,
   "id": "4e42052c",
   "metadata": {},
   "outputs": [],
   "source": [
    "# Split the data into training and testing sets\n",
    "X_train, X_test, y_train, y_test = train_test_split(X, y, test_size=0.2, random_state=42)"
   ]
  },
  {
   "cell_type": "code",
   "execution_count": 8,
   "id": "c3c235d0",
   "metadata": {},
   "outputs": [],
   "source": [
    "# Standardize the features using StandardScaler\n",
    "scaler = StandardScaler()\n",
    "X_train_scaled = scaler.fit_transform(X_train)\n",
    "X_test_scaled = scaler.transform(X_test)"
   ]
  },
  {
   "cell_type": "code",
   "execution_count": 9,
   "id": "e96a1901",
   "metadata": {},
   "outputs": [],
   "source": [
    "# Apply PCA\n",
    "pca = PCA(n_components=10)  # You can adjust the number of components\n",
    "X_train_pca = pca.fit_transform(X_train_scaled)\n",
    "X_test_pca = pca.transform(X_test_scaled)"
   ]
  },
  {
   "cell_type": "code",
   "execution_count": 10,
   "id": "dad75e3d",
   "metadata": {},
   "outputs": [],
   "source": [
    "# Build the Neural Network model\n",
    "model = Sequential()\n",
    "model.add(Dense(units=16, activation='relu', input_dim=X_train_pca.shape[1]))\n",
    "model.add(Dense(units=8, activation='relu'))\n",
    "model.add(Dense(units=1, activation='sigmoid'))"
   ]
  },
  {
   "cell_type": "code",
   "execution_count": 11,
   "id": "80398dfe",
   "metadata": {},
   "outputs": [],
   "source": [
    "# Compile the model\n",
    "model.compile(optimizer='adam', loss='binary_crossentropy', metrics=['accuracy'])"
   ]
  },
  {
   "cell_type": "code",
   "execution_count": 12,
   "id": "38dfa55f",
   "metadata": {},
   "outputs": [
    {
     "name": "stdout",
     "output_type": "stream",
     "text": [
      "Epoch 1/50\n",
      "12/12 [==============================] - 1s 18ms/step - loss: 0.9607 - accuracy: 0.3269 - val_loss: 0.9405 - val_accuracy: 0.3516\n",
      "Epoch 2/50\n",
      "12/12 [==============================] - 0s 4ms/step - loss: 0.8280 - accuracy: 0.4203 - val_loss: 0.8034 - val_accuracy: 0.3956\n",
      "Epoch 3/50\n",
      "12/12 [==============================] - 0s 4ms/step - loss: 0.7173 - accuracy: 0.5522 - val_loss: 0.6881 - val_accuracy: 0.5824\n",
      "Epoch 4/50\n",
      "12/12 [==============================] - 0s 5ms/step - loss: 0.6272 - accuracy: 0.6786 - val_loss: 0.6018 - val_accuracy: 0.7363\n",
      "Epoch 5/50\n",
      "12/12 [==============================] - 0s 4ms/step - loss: 0.5595 - accuracy: 0.7995 - val_loss: 0.5341 - val_accuracy: 0.8022\n",
      "Epoch 6/50\n",
      "12/12 [==============================] - 0s 4ms/step - loss: 0.5031 - accuracy: 0.8462 - val_loss: 0.4819 - val_accuracy: 0.8462\n",
      "Epoch 7/50\n",
      "12/12 [==============================] - 0s 4ms/step - loss: 0.4548 - accuracy: 0.8819 - val_loss: 0.4400 - val_accuracy: 0.8681\n",
      "Epoch 8/50\n",
      "12/12 [==============================] - 0s 4ms/step - loss: 0.4144 - accuracy: 0.9038 - val_loss: 0.4044 - val_accuracy: 0.8681\n",
      "Epoch 9/50\n",
      "12/12 [==============================] - 0s 4ms/step - loss: 0.3787 - accuracy: 0.9148 - val_loss: 0.3744 - val_accuracy: 0.8901\n",
      "Epoch 10/50\n",
      "12/12 [==============================] - 0s 4ms/step - loss: 0.3471 - accuracy: 0.9258 - val_loss: 0.3493 - val_accuracy: 0.8901\n",
      "Epoch 11/50\n",
      "12/12 [==============================] - 0s 4ms/step - loss: 0.3193 - accuracy: 0.9313 - val_loss: 0.3259 - val_accuracy: 0.8901\n",
      "Epoch 12/50\n",
      "12/12 [==============================] - 0s 4ms/step - loss: 0.2946 - accuracy: 0.9313 - val_loss: 0.3047 - val_accuracy: 0.8901\n",
      "Epoch 13/50\n",
      "12/12 [==============================] - 0s 4ms/step - loss: 0.2724 - accuracy: 0.9396 - val_loss: 0.2852 - val_accuracy: 0.8901\n",
      "Epoch 14/50\n",
      "12/12 [==============================] - 0s 4ms/step - loss: 0.2531 - accuracy: 0.9478 - val_loss: 0.2672 - val_accuracy: 0.8901\n",
      "Epoch 15/50\n",
      "12/12 [==============================] - 0s 4ms/step - loss: 0.2348 - accuracy: 0.9533 - val_loss: 0.2510 - val_accuracy: 0.9011\n",
      "Epoch 16/50\n",
      "12/12 [==============================] - 0s 5ms/step - loss: 0.2182 - accuracy: 0.9560 - val_loss: 0.2363 - val_accuracy: 0.9121\n",
      "Epoch 17/50\n",
      "12/12 [==============================] - 0s 5ms/step - loss: 0.2036 - accuracy: 0.9615 - val_loss: 0.2225 - val_accuracy: 0.9341\n",
      "Epoch 18/50\n",
      "12/12 [==============================] - 0s 5ms/step - loss: 0.1899 - accuracy: 0.9615 - val_loss: 0.2101 - val_accuracy: 0.9560\n",
      "Epoch 19/50\n",
      "12/12 [==============================] - 0s 4ms/step - loss: 0.1783 - accuracy: 0.9615 - val_loss: 0.1990 - val_accuracy: 0.9560\n",
      "Epoch 20/50\n",
      "12/12 [==============================] - 0s 5ms/step - loss: 0.1675 - accuracy: 0.9643 - val_loss: 0.1891 - val_accuracy: 0.9560\n",
      "Epoch 21/50\n",
      "12/12 [==============================] - 0s 4ms/step - loss: 0.1577 - accuracy: 0.9643 - val_loss: 0.1796 - val_accuracy: 0.9560\n",
      "Epoch 22/50\n",
      "12/12 [==============================] - 0s 5ms/step - loss: 0.1489 - accuracy: 0.9643 - val_loss: 0.1716 - val_accuracy: 0.9560\n",
      "Epoch 23/50\n",
      "12/12 [==============================] - 0s 4ms/step - loss: 0.1407 - accuracy: 0.9670 - val_loss: 0.1636 - val_accuracy: 0.9560\n",
      "Epoch 24/50\n",
      "12/12 [==============================] - 0s 4ms/step - loss: 0.1336 - accuracy: 0.9670 - val_loss: 0.1575 - val_accuracy: 0.9670\n",
      "Epoch 25/50\n",
      "12/12 [==============================] - 0s 4ms/step - loss: 0.1271 - accuracy: 0.9698 - val_loss: 0.1513 - val_accuracy: 0.9670\n",
      "Epoch 26/50\n",
      "12/12 [==============================] - 0s 4ms/step - loss: 0.1207 - accuracy: 0.9698 - val_loss: 0.1454 - val_accuracy: 0.9670\n",
      "Epoch 27/50\n",
      "12/12 [==============================] - 0s 4ms/step - loss: 0.1152 - accuracy: 0.9725 - val_loss: 0.1404 - val_accuracy: 0.9670\n",
      "Epoch 28/50\n",
      "12/12 [==============================] - 0s 4ms/step - loss: 0.1092 - accuracy: 0.9753 - val_loss: 0.1354 - val_accuracy: 0.9670\n",
      "Epoch 29/50\n",
      "12/12 [==============================] - 0s 5ms/step - loss: 0.1047 - accuracy: 0.9780 - val_loss: 0.1311 - val_accuracy: 0.9780\n",
      "Epoch 30/50\n",
      "12/12 [==============================] - 0s 4ms/step - loss: 0.0996 - accuracy: 0.9753 - val_loss: 0.1272 - val_accuracy: 0.9780\n",
      "Epoch 31/50\n",
      "12/12 [==============================] - 0s 4ms/step - loss: 0.0956 - accuracy: 0.9753 - val_loss: 0.1239 - val_accuracy: 0.9780\n",
      "Epoch 32/50\n",
      "12/12 [==============================] - 0s 4ms/step - loss: 0.0921 - accuracy: 0.9753 - val_loss: 0.1211 - val_accuracy: 0.9780\n",
      "Epoch 33/50\n",
      "12/12 [==============================] - 0s 4ms/step - loss: 0.0889 - accuracy: 0.9780 - val_loss: 0.1182 - val_accuracy: 0.9780\n",
      "Epoch 34/50\n",
      "12/12 [==============================] - 0s 4ms/step - loss: 0.0857 - accuracy: 0.9808 - val_loss: 0.1156 - val_accuracy: 0.9780\n",
      "Epoch 35/50\n",
      "12/12 [==============================] - 0s 4ms/step - loss: 0.0831 - accuracy: 0.9780 - val_loss: 0.1130 - val_accuracy: 0.9780\n",
      "Epoch 36/50\n",
      "12/12 [==============================] - 0s 4ms/step - loss: 0.0804 - accuracy: 0.9780 - val_loss: 0.1114 - val_accuracy: 0.9670\n",
      "Epoch 37/50\n",
      "12/12 [==============================] - 0s 4ms/step - loss: 0.0781 - accuracy: 0.9780 - val_loss: 0.1105 - val_accuracy: 0.9670\n",
      "Epoch 38/50\n",
      "12/12 [==============================] - 0s 5ms/step - loss: 0.0761 - accuracy: 0.9780 - val_loss: 0.1086 - val_accuracy: 0.9670\n",
      "Epoch 39/50\n",
      "12/12 [==============================] - 0s 6ms/step - loss: 0.0739 - accuracy: 0.9780 - val_loss: 0.1070 - val_accuracy: 0.9670\n",
      "Epoch 40/50\n",
      "12/12 [==============================] - 0s 5ms/step - loss: 0.0719 - accuracy: 0.9780 - val_loss: 0.1053 - val_accuracy: 0.9670\n",
      "Epoch 41/50\n",
      "12/12 [==============================] - 0s 5ms/step - loss: 0.0702 - accuracy: 0.9780 - val_loss: 0.1031 - val_accuracy: 0.9670\n",
      "Epoch 42/50\n",
      "12/12 [==============================] - 0s 5ms/step - loss: 0.0683 - accuracy: 0.9780 - val_loss: 0.1017 - val_accuracy: 0.9670\n",
      "Epoch 43/50\n",
      "12/12 [==============================] - 0s 5ms/step - loss: 0.0667 - accuracy: 0.9780 - val_loss: 0.1005 - val_accuracy: 0.9670\n",
      "Epoch 44/50\n",
      "12/12 [==============================] - 0s 5ms/step - loss: 0.0652 - accuracy: 0.9780 - val_loss: 0.0992 - val_accuracy: 0.9670\n",
      "Epoch 45/50\n",
      "12/12 [==============================] - 0s 5ms/step - loss: 0.0638 - accuracy: 0.9808 - val_loss: 0.0983 - val_accuracy: 0.9670\n",
      "Epoch 46/50\n",
      "12/12 [==============================] - 0s 5ms/step - loss: 0.0625 - accuracy: 0.9808 - val_loss: 0.0971 - val_accuracy: 0.9670\n",
      "Epoch 47/50\n",
      "12/12 [==============================] - 0s 5ms/step - loss: 0.0611 - accuracy: 0.9808 - val_loss: 0.0960 - val_accuracy: 0.9670\n",
      "Epoch 48/50\n",
      "12/12 [==============================] - 0s 5ms/step - loss: 0.0598 - accuracy: 0.9835 - val_loss: 0.0945 - val_accuracy: 0.9670\n",
      "Epoch 49/50\n",
      "12/12 [==============================] - 0s 5ms/step - loss: 0.0584 - accuracy: 0.9835 - val_loss: 0.0936 - val_accuracy: 0.9670\n",
      "Epoch 50/50\n",
      "12/12 [==============================] - 0s 5ms/step - loss: 0.0572 - accuracy: 0.9835 - val_loss: 0.0921 - val_accuracy: 0.9670\n"
     ]
    },
    {
     "data": {
      "text/plain": [
       "<keras.src.callbacks.History at 0x260fa9747d0>"
      ]
     },
     "execution_count": 12,
     "metadata": {},
     "output_type": "execute_result"
    }
   ],
   "source": [
    "# Train the model\n",
    "model.fit(X_train_pca, y_train, epochs=50, batch_size=32, validation_split=0.2)"
   ]
  },
  {
   "cell_type": "code",
   "execution_count": 13,
   "id": "082f2825",
   "metadata": {},
   "outputs": [
    {
     "name": "stdout",
     "output_type": "stream",
     "text": [
      "4/4 [==============================] - 0s 2ms/step\n"
     ]
    }
   ],
   "source": [
    "# Evaluate the model on the test set\n",
    "y_pred_prob = model.predict(X_test_pca)\n",
    "y_pred = (y_pred_prob > 0.5).astype(int)"
   ]
  },
  {
   "cell_type": "code",
   "execution_count": 14,
   "id": "c80f0971",
   "metadata": {},
   "outputs": [
    {
     "name": "stdout",
     "output_type": "stream",
     "text": [
      "Accuracy: 0.9825\n",
      "Classification Report:\n",
      "               precision    recall  f1-score   support\n",
      "\n",
      "           0       0.99      0.99      0.99        71\n",
      "           1       0.98      0.98      0.98        43\n",
      "\n",
      "    accuracy                           0.98       114\n",
      "   macro avg       0.98      0.98      0.98       114\n",
      "weighted avg       0.98      0.98      0.98       114\n",
      "\n"
     ]
    }
   ],
   "source": [
    "# Print accuracy and classification report\n",
    "accuracy = accuracy_score(y_test, y_pred)\n",
    "report = classification_report(y_test, y_pred)\n",
    "\n",
    "print(f\"Accuracy: {accuracy:.4f}\")\n",
    "print(\"Classification Report:\\n\", report)"
   ]
  },
  {
   "cell_type": "code",
   "execution_count": null,
   "id": "c80aa12c",
   "metadata": {},
   "outputs": [],
   "source": []
  }
 ],
 "metadata": {
  "kernelspec": {
   "display_name": "Python 3 (ipykernel)",
   "language": "python",
   "name": "python3"
  },
  "language_info": {
   "codemirror_mode": {
    "name": "ipython",
    "version": 3
   },
   "file_extension": ".py",
   "mimetype": "text/x-python",
   "name": "python",
   "nbconvert_exporter": "python",
   "pygments_lexer": "ipython3",
   "version": "3.11.5"
  }
 },
 "nbformat": 4,
 "nbformat_minor": 5
}
