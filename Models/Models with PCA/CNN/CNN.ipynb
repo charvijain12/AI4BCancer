{
 "cells": [
  {
   "cell_type": "code",
   "execution_count": 1,
   "id": "3ce4038f",
   "metadata": {},
   "outputs": [],
   "source": [
    "# Importing necessary libraries\n",
    "import pandas as pd\n",
    "import numpy as np\n",
    "from sklearn.model_selection import train_test_split\n",
    "from sklearn.preprocessing import StandardScaler, LabelEncoder\n",
    "from sklearn.decomposition import PCA\n",
    "from sklearn.metrics import classification_report, accuracy_score\n",
    "from tensorflow.keras.models import Sequential\n",
    "from tensorflow.keras.layers import Dense, Conv2D, Flatten"
   ]
  },
  {
   "cell_type": "code",
   "execution_count": 2,
   "id": "9d86e098",
   "metadata": {},
   "outputs": [],
   "source": [
    "# Load the dataset\n",
    "file_path = r\"C:\\Users\\Shaurya\\Downloads\\data.csv\"\n",
    "df = pd.read_csv(file_path)"
   ]
  },
  {
   "cell_type": "code",
   "execution_count": 3,
   "id": "82076b52",
   "metadata": {},
   "outputs": [],
   "source": [
    "# Preprocess the data\n",
    "df = df.drop(columns=['id', 'Unnamed: 32'])\n",
    "label_encoder = LabelEncoder()\n",
    "df['diagnosis'] = label_encoder.fit_transform(df['diagnosis'])\n",
    "df = df.dropna()\n",
    "X = df.drop(columns=['diagnosis'])\n",
    "y = df['diagnosis']"
   ]
  },
  {
   "cell_type": "code",
   "execution_count": 4,
   "id": "f13c38ed",
   "metadata": {},
   "outputs": [],
   "source": [
    "# Split the data\n",
    "X_train, X_test, y_train, y_test = train_test_split(X, y, test_size=0.2, random_state=42)\n",
    "\n",
    "# Scale the data\n",
    "scaler = StandardScaler()\n",
    "X_train_scaled = scaler.fit_transform(X_train)\n",
    "X_test_scaled = scaler.transform(X_test)"
   ]
  },
  {
   "cell_type": "code",
   "execution_count": 5,
   "id": "f2e90a1a",
   "metadata": {},
   "outputs": [],
   "source": [
    "# Apply PCA\n",
    "n_components = 10  # Adjust based on your requirement\n",
    "pca = PCA(n_components=n_components)\n",
    "X_train_pca = pca.fit_transform(X_train_scaled)\n",
    "X_test_pca = pca.transform(X_test_scaled)"
   ]
  },
  {
   "cell_type": "code",
   "execution_count": 6,
   "id": "066a32f4",
   "metadata": {},
   "outputs": [],
   "source": [
    "# Reshape data for CNN input\n",
    "X_train_pca = X_train_pca.reshape(X_train_pca.shape[0], n_components, 1, 1)\n",
    "X_test_pca = X_test_pca.reshape(X_test_pca.shape[0], n_components, 1, 1)"
   ]
  },
  {
   "cell_type": "code",
   "execution_count": 7,
   "id": "ba279278",
   "metadata": {},
   "outputs": [],
   "source": [
    "# Build the CNN model\n",
    "model = Sequential()\n",
    "model.add(Conv2D(32, kernel_size=(1, 1), activation='relu', input_shape=(n_components, 1, 1)))\n",
    "model.add(Flatten())\n",
    "model.add(Dense(16, activation='relu'))\n",
    "model.add(Dense(1, activation='sigmoid'))"
   ]
  },
  {
   "cell_type": "code",
   "execution_count": 8,
   "id": "04af94a7",
   "metadata": {},
   "outputs": [],
   "source": [
    "# Compile the model\n",
    "model.compile(optimizer='adam', loss='binary_crossentropy', metrics=['accuracy'])"
   ]
  },
  {
   "cell_type": "code",
   "execution_count": 9,
   "id": "4c01f49d",
   "metadata": {},
   "outputs": [
    {
     "name": "stdout",
     "output_type": "stream",
     "text": [
      "Epoch 1/50\n",
      "12/12 [==============================] - 1s 16ms/step - loss: 0.5744 - accuracy: 0.8104 - val_loss: 0.5042 - val_accuracy: 0.9121\n",
      "Epoch 2/50\n",
      "12/12 [==============================] - 0s 4ms/step - loss: 0.4240 - accuracy: 0.9560 - val_loss: 0.3619 - val_accuracy: 0.9670\n",
      "Epoch 3/50\n",
      "12/12 [==============================] - 0s 4ms/step - loss: 0.2928 - accuracy: 0.9670 - val_loss: 0.2598 - val_accuracy: 0.9780\n",
      "Epoch 4/50\n",
      "12/12 [==============================] - 0s 4ms/step - loss: 0.2021 - accuracy: 0.9835 - val_loss: 0.1910 - val_accuracy: 0.9890\n",
      "Epoch 5/50\n",
      "12/12 [==============================] - 0s 4ms/step - loss: 0.1443 - accuracy: 0.9835 - val_loss: 0.1454 - val_accuracy: 0.9890\n",
      "Epoch 6/50\n",
      "12/12 [==============================] - 0s 4ms/step - loss: 0.1076 - accuracy: 0.9835 - val_loss: 0.1190 - val_accuracy: 0.9890\n",
      "Epoch 7/50\n",
      "12/12 [==============================] - 0s 4ms/step - loss: 0.0863 - accuracy: 0.9863 - val_loss: 0.1040 - val_accuracy: 0.9890\n",
      "Epoch 8/50\n",
      "12/12 [==============================] - 0s 4ms/step - loss: 0.0726 - accuracy: 0.9890 - val_loss: 0.0956 - val_accuracy: 0.9780\n",
      "Epoch 9/50\n",
      "12/12 [==============================] - 0s 4ms/step - loss: 0.0639 - accuracy: 0.9890 - val_loss: 0.0894 - val_accuracy: 0.9780\n",
      "Epoch 10/50\n",
      "12/12 [==============================] - 0s 4ms/step - loss: 0.0565 - accuracy: 0.9890 - val_loss: 0.0833 - val_accuracy: 0.9890\n",
      "Epoch 11/50\n",
      "12/12 [==============================] - 0s 4ms/step - loss: 0.0519 - accuracy: 0.9890 - val_loss: 0.0795 - val_accuracy: 0.9780\n",
      "Epoch 12/50\n",
      "12/12 [==============================] - 0s 4ms/step - loss: 0.0481 - accuracy: 0.9890 - val_loss: 0.0759 - val_accuracy: 0.9890\n",
      "Epoch 13/50\n",
      "12/12 [==============================] - 0s 4ms/step - loss: 0.0448 - accuracy: 0.9918 - val_loss: 0.0756 - val_accuracy: 0.9780\n",
      "Epoch 14/50\n",
      "12/12 [==============================] - 0s 4ms/step - loss: 0.0412 - accuracy: 0.9918 - val_loss: 0.0719 - val_accuracy: 0.9780\n",
      "Epoch 15/50\n",
      "12/12 [==============================] - 0s 4ms/step - loss: 0.0400 - accuracy: 0.9918 - val_loss: 0.0728 - val_accuracy: 0.9780\n",
      "Epoch 16/50\n",
      "12/12 [==============================] - 0s 5ms/step - loss: 0.0371 - accuracy: 0.9918 - val_loss: 0.0693 - val_accuracy: 0.9670\n",
      "Epoch 17/50\n",
      "12/12 [==============================] - 0s 5ms/step - loss: 0.0354 - accuracy: 0.9918 - val_loss: 0.0675 - val_accuracy: 0.9670\n",
      "Epoch 18/50\n",
      "12/12 [==============================] - 0s 5ms/step - loss: 0.0329 - accuracy: 0.9918 - val_loss: 0.0672 - val_accuracy: 0.9670\n",
      "Epoch 19/50\n",
      "12/12 [==============================] - 0s 4ms/step - loss: 0.0320 - accuracy: 0.9918 - val_loss: 0.0656 - val_accuracy: 0.9670\n",
      "Epoch 20/50\n",
      "12/12 [==============================] - 0s 5ms/step - loss: 0.0299 - accuracy: 0.9918 - val_loss: 0.0637 - val_accuracy: 0.9670\n",
      "Epoch 21/50\n",
      "12/12 [==============================] - 0s 5ms/step - loss: 0.0284 - accuracy: 0.9918 - val_loss: 0.0610 - val_accuracy: 0.9780\n",
      "Epoch 22/50\n",
      "12/12 [==============================] - 0s 5ms/step - loss: 0.0264 - accuracy: 0.9945 - val_loss: 0.0578 - val_accuracy: 0.9780\n",
      "Epoch 23/50\n",
      "12/12 [==============================] - 0s 4ms/step - loss: 0.0263 - accuracy: 0.9945 - val_loss: 0.0594 - val_accuracy: 0.9780\n",
      "Epoch 24/50\n",
      "12/12 [==============================] - 0s 4ms/step - loss: 0.0241 - accuracy: 0.9945 - val_loss: 0.0627 - val_accuracy: 0.9670\n",
      "Epoch 25/50\n",
      "12/12 [==============================] - 0s 5ms/step - loss: 0.0241 - accuracy: 0.9918 - val_loss: 0.0624 - val_accuracy: 0.9670\n",
      "Epoch 26/50\n",
      "12/12 [==============================] - 0s 4ms/step - loss: 0.0230 - accuracy: 0.9945 - val_loss: 0.0553 - val_accuracy: 0.9780\n",
      "Epoch 27/50\n",
      "12/12 [==============================] - 0s 5ms/step - loss: 0.0213 - accuracy: 0.9945 - val_loss: 0.0617 - val_accuracy: 0.9670\n",
      "Epoch 28/50\n",
      "12/12 [==============================] - 0s 5ms/step - loss: 0.0220 - accuracy: 0.9918 - val_loss: 0.0667 - val_accuracy: 0.9670\n",
      "Epoch 29/50\n",
      "12/12 [==============================] - 0s 4ms/step - loss: 0.0205 - accuracy: 0.9945 - val_loss: 0.0561 - val_accuracy: 0.9670\n",
      "Epoch 30/50\n",
      "12/12 [==============================] - 0s 5ms/step - loss: 0.0192 - accuracy: 0.9945 - val_loss: 0.0597 - val_accuracy: 0.9670\n",
      "Epoch 31/50\n",
      "12/12 [==============================] - 0s 5ms/step - loss: 0.0185 - accuracy: 0.9945 - val_loss: 0.0584 - val_accuracy: 0.9670\n",
      "Epoch 32/50\n",
      "12/12 [==============================] - 0s 5ms/step - loss: 0.0180 - accuracy: 0.9945 - val_loss: 0.0564 - val_accuracy: 0.9670\n",
      "Epoch 33/50\n",
      "12/12 [==============================] - 0s 4ms/step - loss: 0.0181 - accuracy: 0.9918 - val_loss: 0.0627 - val_accuracy: 0.9670\n",
      "Epoch 34/50\n",
      "12/12 [==============================] - 0s 4ms/step - loss: 0.0163 - accuracy: 0.9945 - val_loss: 0.0552 - val_accuracy: 0.9670\n",
      "Epoch 35/50\n",
      "12/12 [==============================] - 0s 5ms/step - loss: 0.0159 - accuracy: 0.9973 - val_loss: 0.0595 - val_accuracy: 0.9670\n",
      "Epoch 36/50\n",
      "12/12 [==============================] - 0s 6ms/step - loss: 0.0149 - accuracy: 0.9973 - val_loss: 0.0584 - val_accuracy: 0.9670\n",
      "Epoch 37/50\n",
      "12/12 [==============================] - 0s 5ms/step - loss: 0.0149 - accuracy: 0.9973 - val_loss: 0.0558 - val_accuracy: 0.9670\n",
      "Epoch 38/50\n",
      "12/12 [==============================] - 0s 5ms/step - loss: 0.0138 - accuracy: 0.9973 - val_loss: 0.0594 - val_accuracy: 0.9670\n",
      "Epoch 39/50\n",
      "12/12 [==============================] - 0s 5ms/step - loss: 0.0139 - accuracy: 0.9945 - val_loss: 0.0569 - val_accuracy: 0.9670\n",
      "Epoch 40/50\n",
      "12/12 [==============================] - 0s 4ms/step - loss: 0.0132 - accuracy: 0.9973 - val_loss: 0.0580 - val_accuracy: 0.9670\n",
      "Epoch 41/50\n",
      "12/12 [==============================] - 0s 4ms/step - loss: 0.0130 - accuracy: 0.9973 - val_loss: 0.0601 - val_accuracy: 0.9670\n",
      "Epoch 42/50\n",
      "12/12 [==============================] - 0s 4ms/step - loss: 0.0123 - accuracy: 1.0000 - val_loss: 0.0544 - val_accuracy: 0.9670\n",
      "Epoch 43/50\n",
      "12/12 [==============================] - 0s 4ms/step - loss: 0.0120 - accuracy: 1.0000 - val_loss: 0.0588 - val_accuracy: 0.9670\n",
      "Epoch 44/50\n",
      "12/12 [==============================] - 0s 4ms/step - loss: 0.0120 - accuracy: 1.0000 - val_loss: 0.0576 - val_accuracy: 0.9670\n",
      "Epoch 45/50\n",
      "12/12 [==============================] - 0s 5ms/step - loss: 0.0108 - accuracy: 1.0000 - val_loss: 0.0647 - val_accuracy: 0.9670\n",
      "Epoch 46/50\n",
      "12/12 [==============================] - 0s 4ms/step - loss: 0.0109 - accuracy: 0.9973 - val_loss: 0.0584 - val_accuracy: 0.9670\n",
      "Epoch 47/50\n",
      "12/12 [==============================] - 0s 5ms/step - loss: 0.0106 - accuracy: 1.0000 - val_loss: 0.0592 - val_accuracy: 0.9670\n",
      "Epoch 48/50\n",
      "12/12 [==============================] - 0s 4ms/step - loss: 0.0106 - accuracy: 0.9973 - val_loss: 0.0611 - val_accuracy: 0.9670\n",
      "Epoch 49/50\n",
      "12/12 [==============================] - 0s 4ms/step - loss: 0.0098 - accuracy: 0.9973 - val_loss: 0.0550 - val_accuracy: 0.9670\n",
      "Epoch 50/50\n",
      "12/12 [==============================] - 0s 4ms/step - loss: 0.0093 - accuracy: 1.0000 - val_loss: 0.0552 - val_accuracy: 0.9670\n"
     ]
    },
    {
     "data": {
      "text/plain": [
       "<keras.src.callbacks.History at 0x2d802720d10>"
      ]
     },
     "execution_count": 9,
     "metadata": {},
     "output_type": "execute_result"
    }
   ],
   "source": [
    "# Train the model\n",
    "model.fit(X_train_pca, y_train, epochs=50, batch_size=32, validation_split=0.2)"
   ]
  },
  {
   "cell_type": "code",
   "execution_count": 10,
   "id": "bddc3238",
   "metadata": {},
   "outputs": [
    {
     "name": "stdout",
     "output_type": "stream",
     "text": [
      "4/4 [==============================] - 0s 2ms/step\n"
     ]
    }
   ],
   "source": [
    "# Evaluate the model\n",
    "y_pred_prob = model.predict(X_test_pca)\n",
    "y_pred = (y_pred_prob > 0.5).astype(int)"
   ]
  },
  {
   "cell_type": "code",
   "execution_count": 11,
   "id": "85b18e05",
   "metadata": {},
   "outputs": [
    {
     "name": "stdout",
     "output_type": "stream",
     "text": [
      "Accuracy: 0.9737\n",
      "Classification Report:\n",
      "               precision    recall  f1-score   support\n",
      "\n",
      "           0       0.99      0.97      0.98        71\n",
      "           1       0.95      0.98      0.97        43\n",
      "\n",
      "    accuracy                           0.97       114\n",
      "   macro avg       0.97      0.97      0.97       114\n",
      "weighted avg       0.97      0.97      0.97       114\n",
      "\n"
     ]
    }
   ],
   "source": [
    "# Evaluate the model\n",
    "accuracy = accuracy_score(y_test, y_pred)\n",
    "report = classification_report(y_test, y_pred)\n",
    "\n",
    "print(f\"Accuracy: {accuracy:.4f}\")\n",
    "print(\"Classification Report:\\n\", report)"
   ]
  },
  {
   "cell_type": "code",
   "execution_count": null,
   "id": "ecc3ecb0",
   "metadata": {},
   "outputs": [],
   "source": []
  }
 ],
 "metadata": {
  "kernelspec": {
   "display_name": "Python 3 (ipykernel)",
   "language": "python",
   "name": "python3"
  },
  "language_info": {
   "codemirror_mode": {
    "name": "ipython",
    "version": 3
   },
   "file_extension": ".py",
   "mimetype": "text/x-python",
   "name": "python",
   "nbconvert_exporter": "python",
   "pygments_lexer": "ipython3",
   "version": "3.11.5"
  }
 },
 "nbformat": 4,
 "nbformat_minor": 5
}
