{
 "cells": [
  {
   "cell_type": "code",
   "execution_count": 1,
   "id": "22d5018a",
   "metadata": {},
   "outputs": [],
   "source": [
    "import pandas as pd\n",
    "import numpy as np\n",
    "from sklearn.model_selection import train_test_split\n",
    "from sklearn.preprocessing import StandardScaler, LabelEncoder\n",
    "from tensorflow.keras.models import Sequential\n",
    "from tensorflow.keras.layers import Dense, Conv2D, Flatten\n",
    "from sklearn.metrics import classification_report, accuracy_score"
   ]
  },
  {
   "cell_type": "code",
   "execution_count": 3,
   "id": "13a2e509",
   "metadata": {},
   "outputs": [],
   "source": [
    "# Load the dataset\n",
    "file_path = r\"C:\\Users\\Shaurya\\Downloads\\data.csv\"\n",
    "df = pd.read_csv(file_path)"
   ]
  },
  {
   "cell_type": "code",
   "execution_count": 4,
   "id": "8162353b",
   "metadata": {},
   "outputs": [],
   "source": [
    "# Preprocess the data\n",
    "df = df.drop(columns=['id', 'Unnamed: 32'])\n",
    "label_encoder = LabelEncoder()\n",
    "df['diagnosis'] = label_encoder.fit_transform(df['diagnosis'])\n",
    "df = df.dropna()\n",
    "X = df.drop(columns=['diagnosis'])\n",
    "y = df['diagnosis']"
   ]
  },
  {
   "cell_type": "code",
   "execution_count": 5,
   "id": "e4ce8227",
   "metadata": {},
   "outputs": [],
   "source": [
    "# Split the data\n",
    "X_train, X_test, y_train, y_test = train_test_split(X, y, test_size=0.2, random_state=42)\n",
    "\n",
    "# Scale the data\n",
    "scaler = StandardScaler()\n",
    "X_train_scaled = scaler.fit_transform(X_train)\n",
    "X_test_scaled = scaler.transform(X_test)"
   ]
  },
  {
   "cell_type": "code",
   "execution_count": 6,
   "id": "83979ab7",
   "metadata": {},
   "outputs": [],
   "source": [
    "# Reshape the data for CNN input\n",
    "X_train_scaled = np.reshape(X_train_scaled, (X_train_scaled.shape[0], X_train_scaled.shape[1], 1, 1))\n",
    "X_test_scaled = np.reshape(X_test_scaled, (X_test_scaled.shape[0], X_test_scaled.shape[1], 1, 1))"
   ]
  },
  {
   "cell_type": "code",
   "execution_count": 9,
   "id": "e8929965",
   "metadata": {},
   "outputs": [],
   "source": [
    "# Build the CNN model\n",
    "model = Sequential()\n",
    "model.add(Conv2D(32, kernel_size=(1, 1), activation='relu', input_shape=(X_train_scaled.shape[1], 1, 1)))\n",
    "model.add(Flatten())\n",
    "model.add(Dense(16, activation='relu'))\n",
    "model.add(Dense(1, activation='sigmoid'))"
   ]
  },
  {
   "cell_type": "code",
   "execution_count": 10,
   "id": "42e3e389",
   "metadata": {},
   "outputs": [],
   "source": [
    "# Compile the model\n",
    "model.compile(optimizer='adam', loss='binary_crossentropy', metrics=['accuracy'])"
   ]
  },
  {
   "cell_type": "code",
   "execution_count": 11,
   "id": "90fc14ea",
   "metadata": {},
   "outputs": [
    {
     "name": "stdout",
     "output_type": "stream",
     "text": [
      "Epoch 1/50\n",
      "12/12 [==============================] - 1s 19ms/step - loss: 0.4932 - accuracy: 0.8462 - val_loss: 0.2915 - val_accuracy: 0.9231\n",
      "Epoch 2/50\n",
      "12/12 [==============================] - 0s 4ms/step - loss: 0.2247 - accuracy: 0.9341 - val_loss: 0.1663 - val_accuracy: 0.9341\n",
      "Epoch 3/50\n",
      "12/12 [==============================] - 0s 4ms/step - loss: 0.1276 - accuracy: 0.9560 - val_loss: 0.1285 - val_accuracy: 0.9670\n",
      "Epoch 4/50\n",
      "12/12 [==============================] - 0s 5ms/step - loss: 0.0955 - accuracy: 0.9725 - val_loss: 0.1161 - val_accuracy: 0.9780\n",
      "Epoch 5/50\n",
      "12/12 [==============================] - 0s 4ms/step - loss: 0.0785 - accuracy: 0.9835 - val_loss: 0.1114 - val_accuracy: 0.9670\n",
      "Epoch 6/50\n",
      "12/12 [==============================] - 0s 5ms/step - loss: 0.0702 - accuracy: 0.9808 - val_loss: 0.1080 - val_accuracy: 0.9670\n",
      "Epoch 7/50\n",
      "12/12 [==============================] - 0s 4ms/step - loss: 0.0617 - accuracy: 0.9835 - val_loss: 0.1054 - val_accuracy: 0.9670\n",
      "Epoch 8/50\n",
      "12/12 [==============================] - 0s 5ms/step - loss: 0.0573 - accuracy: 0.9835 - val_loss: 0.1047 - val_accuracy: 0.9670\n",
      "Epoch 9/50\n",
      "12/12 [==============================] - 0s 4ms/step - loss: 0.0528 - accuracy: 0.9863 - val_loss: 0.1043 - val_accuracy: 0.9670\n",
      "Epoch 10/50\n",
      "12/12 [==============================] - 0s 6ms/step - loss: 0.0500 - accuracy: 0.9835 - val_loss: 0.1021 - val_accuracy: 0.9670\n",
      "Epoch 11/50\n",
      "12/12 [==============================] - 0s 5ms/step - loss: 0.0471 - accuracy: 0.9835 - val_loss: 0.1004 - val_accuracy: 0.9670\n",
      "Epoch 12/50\n",
      "12/12 [==============================] - 0s 5ms/step - loss: 0.0459 - accuracy: 0.9863 - val_loss: 0.1034 - val_accuracy: 0.9451\n",
      "Epoch 13/50\n",
      "12/12 [==============================] - 0s 5ms/step - loss: 0.0429 - accuracy: 0.9863 - val_loss: 0.1031 - val_accuracy: 0.9670\n",
      "Epoch 14/50\n",
      "12/12 [==============================] - 0s 4ms/step - loss: 0.0400 - accuracy: 0.9890 - val_loss: 0.1027 - val_accuracy: 0.9560\n",
      "Epoch 15/50\n",
      "12/12 [==============================] - 0s 4ms/step - loss: 0.0386 - accuracy: 0.9918 - val_loss: 0.1040 - val_accuracy: 0.9670\n",
      "Epoch 16/50\n",
      "12/12 [==============================] - 0s 5ms/step - loss: 0.0415 - accuracy: 0.9863 - val_loss: 0.1060 - val_accuracy: 0.9560\n",
      "Epoch 17/50\n",
      "12/12 [==============================] - 0s 5ms/step - loss: 0.0373 - accuracy: 0.9890 - val_loss: 0.1072 - val_accuracy: 0.9560\n",
      "Epoch 18/50\n",
      "12/12 [==============================] - 0s 5ms/step - loss: 0.0341 - accuracy: 0.9890 - val_loss: 0.1089 - val_accuracy: 0.9560\n",
      "Epoch 19/50\n",
      "12/12 [==============================] - 0s 5ms/step - loss: 0.0324 - accuracy: 0.9890 - val_loss: 0.1110 - val_accuracy: 0.9560\n",
      "Epoch 20/50\n",
      "12/12 [==============================] - 0s 5ms/step - loss: 0.0319 - accuracy: 0.9918 - val_loss: 0.1107 - val_accuracy: 0.9451\n",
      "Epoch 21/50\n",
      "12/12 [==============================] - 0s 4ms/step - loss: 0.0297 - accuracy: 0.9918 - val_loss: 0.1131 - val_accuracy: 0.9451\n",
      "Epoch 22/50\n",
      "12/12 [==============================] - 0s 4ms/step - loss: 0.0290 - accuracy: 0.9918 - val_loss: 0.1173 - val_accuracy: 0.9451\n",
      "Epoch 23/50\n",
      "12/12 [==============================] - 0s 5ms/step - loss: 0.0268 - accuracy: 0.9918 - val_loss: 0.1219 - val_accuracy: 0.9451\n",
      "Epoch 24/50\n",
      "12/12 [==============================] - 0s 4ms/step - loss: 0.0262 - accuracy: 0.9918 - val_loss: 0.1230 - val_accuracy: 0.9451\n",
      "Epoch 25/50\n",
      "12/12 [==============================] - 0s 4ms/step - loss: 0.0255 - accuracy: 0.9918 - val_loss: 0.1228 - val_accuracy: 0.9560\n",
      "Epoch 26/50\n",
      "12/12 [==============================] - 0s 5ms/step - loss: 0.0236 - accuracy: 0.9945 - val_loss: 0.1262 - val_accuracy: 0.9451\n",
      "Epoch 27/50\n",
      "12/12 [==============================] - 0s 5ms/step - loss: 0.0232 - accuracy: 0.9918 - val_loss: 0.1270 - val_accuracy: 0.9451\n",
      "Epoch 28/50\n",
      "12/12 [==============================] - 0s 5ms/step - loss: 0.0225 - accuracy: 0.9918 - val_loss: 0.1308 - val_accuracy: 0.9451\n",
      "Epoch 29/50\n",
      "12/12 [==============================] - 0s 5ms/step - loss: 0.0208 - accuracy: 0.9945 - val_loss: 0.1343 - val_accuracy: 0.9451\n",
      "Epoch 30/50\n",
      "12/12 [==============================] - 0s 5ms/step - loss: 0.0195 - accuracy: 0.9945 - val_loss: 0.1417 - val_accuracy: 0.9451\n",
      "Epoch 31/50\n",
      "12/12 [==============================] - 0s 4ms/step - loss: 0.0190 - accuracy: 0.9945 - val_loss: 0.1478 - val_accuracy: 0.9451\n",
      "Epoch 32/50\n",
      "12/12 [==============================] - 0s 5ms/step - loss: 0.0186 - accuracy: 0.9973 - val_loss: 0.1498 - val_accuracy: 0.9451\n",
      "Epoch 33/50\n",
      "12/12 [==============================] - 0s 6ms/step - loss: 0.0174 - accuracy: 0.9973 - val_loss: 0.1461 - val_accuracy: 0.9451\n",
      "Epoch 34/50\n",
      "12/12 [==============================] - 0s 5ms/step - loss: 0.0167 - accuracy: 0.9973 - val_loss: 0.1456 - val_accuracy: 0.9451\n",
      "Epoch 35/50\n",
      "12/12 [==============================] - 0s 5ms/step - loss: 0.0163 - accuracy: 0.9973 - val_loss: 0.1492 - val_accuracy: 0.9451\n",
      "Epoch 36/50\n",
      "12/12 [==============================] - 0s 4ms/step - loss: 0.0151 - accuracy: 0.9973 - val_loss: 0.1509 - val_accuracy: 0.9451\n",
      "Epoch 37/50\n",
      "12/12 [==============================] - 0s 5ms/step - loss: 0.0151 - accuracy: 0.9973 - val_loss: 0.1515 - val_accuracy: 0.9451\n",
      "Epoch 38/50\n",
      "12/12 [==============================] - 0s 5ms/step - loss: 0.0149 - accuracy: 0.9945 - val_loss: 0.1522 - val_accuracy: 0.9451\n",
      "Epoch 39/50\n",
      "12/12 [==============================] - 0s 4ms/step - loss: 0.0140 - accuracy: 0.9973 - val_loss: 0.1571 - val_accuracy: 0.9451\n",
      "Epoch 40/50\n",
      "12/12 [==============================] - 0s 5ms/step - loss: 0.0130 - accuracy: 0.9973 - val_loss: 0.1578 - val_accuracy: 0.9451\n",
      "Epoch 41/50\n",
      "12/12 [==============================] - 0s 4ms/step - loss: 0.0138 - accuracy: 0.9973 - val_loss: 0.1567 - val_accuracy: 0.9451\n",
      "Epoch 42/50\n",
      "12/12 [==============================] - 0s 4ms/step - loss: 0.0131 - accuracy: 0.9973 - val_loss: 0.1566 - val_accuracy: 0.9451\n",
      "Epoch 43/50\n",
      "12/12 [==============================] - 0s 5ms/step - loss: 0.0148 - accuracy: 0.9945 - val_loss: 0.1631 - val_accuracy: 0.9560\n",
      "Epoch 44/50\n",
      "12/12 [==============================] - 0s 4ms/step - loss: 0.0112 - accuracy: 0.9973 - val_loss: 0.1613 - val_accuracy: 0.9451\n",
      "Epoch 45/50\n",
      "12/12 [==============================] - 0s 4ms/step - loss: 0.0133 - accuracy: 0.9973 - val_loss: 0.1628 - val_accuracy: 0.9451\n",
      "Epoch 46/50\n",
      "12/12 [==============================] - 0s 4ms/step - loss: 0.0117 - accuracy: 1.0000 - val_loss: 0.1652 - val_accuracy: 0.9451\n",
      "Epoch 47/50\n",
      "12/12 [==============================] - 0s 4ms/step - loss: 0.0098 - accuracy: 0.9973 - val_loss: 0.1724 - val_accuracy: 0.9560\n",
      "Epoch 48/50\n",
      "12/12 [==============================] - 0s 5ms/step - loss: 0.0099 - accuracy: 0.9973 - val_loss: 0.1675 - val_accuracy: 0.9451\n",
      "Epoch 49/50\n",
      "12/12 [==============================] - 0s 5ms/step - loss: 0.0099 - accuracy: 0.9973 - val_loss: 0.1682 - val_accuracy: 0.9451\n",
      "Epoch 50/50\n",
      "12/12 [==============================] - 0s 5ms/step - loss: 0.0098 - accuracy: 1.0000 - val_loss: 0.1723 - val_accuracy: 0.9451\n"
     ]
    },
    {
     "data": {
      "text/plain": [
       "<keras.src.callbacks.History at 0x29c059fe390>"
      ]
     },
     "execution_count": 11,
     "metadata": {},
     "output_type": "execute_result"
    }
   ],
   "source": [
    "# Train the model\n",
    "model.fit(X_train_scaled, y_train, epochs=50, batch_size=32, validation_split=0.2)"
   ]
  },
  {
   "cell_type": "code",
   "execution_count": 12,
   "id": "863c07a5",
   "metadata": {},
   "outputs": [
    {
     "name": "stdout",
     "output_type": "stream",
     "text": [
      "4/4 [==============================] - 0s 2ms/step\n"
     ]
    }
   ],
   "source": [
    "# Evaluate the model\n",
    "y_pred_prob = model.predict(X_test_scaled)\n",
    "y_pred = (y_pred_prob > 0.5).astype(int)"
   ]
  },
  {
   "cell_type": "code",
   "execution_count": 13,
   "id": "7ba472c1",
   "metadata": {},
   "outputs": [
    {
     "name": "stdout",
     "output_type": "stream",
     "text": [
      "Accuracy: 0.9474\n",
      "Classification Report:\n",
      "               precision    recall  f1-score   support\n",
      "\n",
      "           0       0.96      0.96      0.96        71\n",
      "           1       0.93      0.93      0.93        43\n",
      "\n",
      "    accuracy                           0.95       114\n",
      "   macro avg       0.94      0.94      0.94       114\n",
      "weighted avg       0.95      0.95      0.95       114\n",
      "\n"
     ]
    }
   ],
   "source": [
    "# Calculate accuracy and print classification report\n",
    "accuracy = accuracy_score(y_test, y_pred)\n",
    "report = classification_report(y_test, y_pred)\n",
    "\n",
    "print(f\"Accuracy: {accuracy:.4f}\")\n",
    "print(\"Classification Report:\\n\", report)"
   ]
  },
  {
   "cell_type": "code",
   "execution_count": null,
   "id": "213b6eec",
   "metadata": {},
   "outputs": [],
   "source": []
  }
 ],
 "metadata": {
  "kernelspec": {
   "display_name": "Python 3 (ipykernel)",
   "language": "python",
   "name": "python3"
  },
  "language_info": {
   "codemirror_mode": {
    "name": "ipython",
    "version": 3
   },
   "file_extension": ".py",
   "mimetype": "text/x-python",
   "name": "python",
   "nbconvert_exporter": "python",
   "pygments_lexer": "ipython3",
   "version": "3.11.5"
  }
 },
 "nbformat": 4,
 "nbformat_minor": 5
}
