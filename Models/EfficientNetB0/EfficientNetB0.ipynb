{
 "cells": [
  {
   "cell_type": "code",
   "execution_count": 7,
   "id": "13b7c914",
   "metadata": {},
   "outputs": [
    {
     "name": "stdout",
     "output_type": "stream",
     "text": [
      "Epoch 1/10\n",
      "15/15 [==============================] - 2s 25ms/step - loss: 0.3064 - accuracy: 0.8945 - val_loss: 0.0888 - val_accuracy: 0.9737\n",
      "Epoch 2/10\n",
      "15/15 [==============================] - 0s 6ms/step - loss: 0.0948 - accuracy: 0.9692 - val_loss: 0.0612 - val_accuracy: 0.9737\n",
      "Epoch 3/10\n",
      "15/15 [==============================] - 0s 5ms/step - loss: 0.0737 - accuracy: 0.9780 - val_loss: 0.0586 - val_accuracy: 0.9649\n",
      "Epoch 4/10\n",
      "15/15 [==============================] - 0s 6ms/step - loss: 0.0657 - accuracy: 0.9758 - val_loss: 0.0586 - val_accuracy: 0.9737\n",
      "Epoch 5/10\n",
      "15/15 [==============================] - 0s 6ms/step - loss: 0.0541 - accuracy: 0.9846 - val_loss: 0.0599 - val_accuracy: 0.9737\n",
      "Epoch 6/10\n",
      "15/15 [==============================] - 0s 6ms/step - loss: 0.0497 - accuracy: 0.9846 - val_loss: 0.0632 - val_accuracy: 0.9561\n",
      "Epoch 7/10\n",
      "15/15 [==============================] - 0s 6ms/step - loss: 0.0509 - accuracy: 0.9802 - val_loss: 0.0624 - val_accuracy: 0.9561\n",
      "Epoch 8/10\n",
      "15/15 [==============================] - 0s 5ms/step - loss: 0.0310 - accuracy: 0.9934 - val_loss: 0.0641 - val_accuracy: 0.9561\n",
      "Epoch 9/10\n",
      "15/15 [==============================] - 0s 5ms/step - loss: 0.0411 - accuracy: 0.9890 - val_loss: 0.0684 - val_accuracy: 0.9561\n",
      "Epoch 10/10\n",
      "15/15 [==============================] - 0s 5ms/step - loss: 0.0322 - accuracy: 0.9890 - val_loss: 0.0666 - val_accuracy: 0.9649\n"
     ]
    }
   ],
   "source": [
    "import pandas as pd\n",
    "from sklearn.model_selection import train_test_split\n",
    "from sklearn.preprocessing import StandardScaler\n",
    "from tensorflow.keras.utils import to_categorical\n",
    "from tensorflow.keras import layers, models\n",
    "\n",
    "# Load the dataset\n",
    "df = pd.read_csv('C:\\\\Users\\\\Shaurya\\\\Downloads\\\\data.csv')\n",
    "\n",
    "# Drop unnecessary columns\n",
    "df = df.drop(['id', 'Unnamed: 32'], axis=1)\n",
    "\n",
    "# Extract features and target variable\n",
    "X = df.drop('diagnosis', axis=1)\n",
    "y = df['diagnosis'].apply(lambda x: 1 if x == 'M' else 0)  # Convert 'M' to 1 and 'B' to 0\n",
    "\n",
    "# Convert target to categorical\n",
    "y = to_categorical(y)\n",
    "\n",
    "# Standardize the features\n",
    "scaler = StandardScaler()\n",
    "X_scaled = scaler.fit_transform(X)\n",
    "\n",
    "# Split into train and test sets\n",
    "X_train, X_test, y_train, y_test = train_test_split(X_scaled, y, test_size=0.2, random_state=42)\n",
    "\n",
    "# Build the model\n",
    "model = models.Sequential([\n",
    "    layers.Dense(256, activation='relu', input_shape=(X_train.shape[1],)),\n",
    "    layers.Dropout(0.3),\n",
    "    layers.Dense(128, activation='relu'),\n",
    "    layers.Dropout(0.3),\n",
    "    layers.Dense(2, activation='softmax')\n",
    "])\n",
    "\n",
    "# Compile the model\n",
    "model.compile(optimizer='adam', loss='categorical_crossentropy', metrics=['accuracy'])\n",
    "\n",
    "# Train the model\n",
    "history = model.fit(X_train, y_train, epochs=10, batch_size=32, validation_data=(X_test, y_test))"
   ]
  },
  {
   "cell_type": "code",
   "execution_count": 9,
   "id": "0917bdc5",
   "metadata": {},
   "outputs": [
    {
     "name": "stdout",
     "output_type": "stream",
     "text": [
      "4/4 [==============================] - 0s 2ms/step\n",
      "Accuracy: 0.9649\n",
      "Classification Report:\n",
      "               precision    recall  f1-score   support\n",
      "\n",
      "           0       0.99      0.96      0.97        71\n",
      "           1       0.93      0.98      0.95        43\n",
      "\n",
      "    accuracy                           0.96       114\n",
      "   macro avg       0.96      0.97      0.96       114\n",
      "weighted avg       0.97      0.96      0.97       114\n",
      "\n"
     ]
    }
   ],
   "source": [
    "import numpy as np\n",
    "from sklearn.metrics import classification_report, accuracy_score\n",
    "\n",
    "# After training the model\n",
    "# Predict on the test set\n",
    "y_pred_prob = model.predict(X_test)\n",
    "y_pred = np.argmax(y_pred_prob, axis=1)\n",
    "y_true = np.argmax(y_test, axis=1)\n",
    "\n",
    "# Calculate accuracy\n",
    "accuracy = accuracy_score(y_true, y_pred)\n",
    "print(f\"Accuracy: {accuracy:.4f}\")\n",
    "\n",
    "# Generate and print the classification report\n",
    "report = classification_report(y_true, y_pred)\n",
    "print(\"Classification Report:\\n\", report)"
   ]
  },
  {
   "cell_type": "code",
   "execution_count": null,
   "id": "50e5c766",
   "metadata": {},
   "outputs": [],
   "source": []
  }
 ],
 "metadata": {
  "kernelspec": {
   "display_name": "Python 3 (ipykernel)",
   "language": "python",
   "name": "python3"
  },
  "language_info": {
   "codemirror_mode": {
    "name": "ipython",
    "version": 3
   },
   "file_extension": ".py",
   "mimetype": "text/x-python",
   "name": "python",
   "nbconvert_exporter": "python",
   "pygments_lexer": "ipython3",
   "version": "3.11.5"
  }
 },
 "nbformat": 4,
 "nbformat_minor": 5
}
