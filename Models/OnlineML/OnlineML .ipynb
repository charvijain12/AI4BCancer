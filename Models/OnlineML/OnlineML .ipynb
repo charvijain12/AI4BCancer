{
 "cells": [
  {
   "cell_type": "code",
   "execution_count": 1,
   "id": "bdac2f95",
   "metadata": {},
   "outputs": [],
   "source": [
    "import pandas as pd\n",
    "import numpy as np\n",
    "from sklearn.model_selection import train_test_split\n",
    "from sklearn.preprocessing import StandardScaler\n",
    "from sklearn.linear_model import SGDClassifier\n",
    "from sklearn.metrics import classification_report, accuracy_score"
   ]
  },
  {
   "cell_type": "code",
   "execution_count": 2,
   "id": "e5f22693",
   "metadata": {},
   "outputs": [],
   "source": [
    "# Load the dataset\n",
    "df = pd.read_csv('C:\\\\Users\\\\Shaurya\\\\Downloads\\\\data.csv')\n",
    "df = df.drop(['id', 'Unnamed: 32'], axis=1)\n",
    "X = df.drop('diagnosis', axis=1)\n",
    "y = df['diagnosis'].apply(lambda x: 1 if x == 'M' else 0)"
   ]
  },
  {
   "cell_type": "code",
   "execution_count": 3,
   "id": "471a4216",
   "metadata": {},
   "outputs": [],
   "source": [
    "# Standardize the features\n",
    "scaler = StandardScaler()\n",
    "X_scaled = scaler.fit_transform(X)\n",
    "\n",
    "# Split into train and test sets\n",
    "X_train, X_test, y_train, y_test = train_test_split(X_scaled, y, test_size=0.2, random_state=42)"
   ]
  },
  {
   "cell_type": "code",
   "execution_count": 5,
   "id": "715f6d8a",
   "metadata": {},
   "outputs": [],
   "source": [
    "# Initialize the online learning model with the correct loss parameter\n",
    "model = SGDClassifier(loss='log_loss')  # Corrected loss parameter for logistic regression\n",
    "\n",
    "# Simulate online learning\n",
    "# Here we'll update the model in batches\n",
    "batch_size = 10\n",
    "for i in range(0, X_train.shape[0], batch_size):\n",
    "    X_batch = X_train[i:i + batch_size]\n",
    "    y_batch = y_train[i:i + batch_size]\n",
    "    model.partial_fit(X_batch, y_batch, classes=np.unique(y))"
   ]
  },
  {
   "cell_type": "code",
   "execution_count": 6,
   "id": "c7eeda3b",
   "metadata": {},
   "outputs": [
    {
     "name": "stdout",
     "output_type": "stream",
     "text": [
      "Accuracy: 0.6228\n",
      "Classification Report:\n",
      "               precision    recall  f1-score   support\n",
      "\n",
      "           0       0.72      0.65      0.68        71\n",
      "           1       0.50      0.58      0.54        43\n",
      "\n",
      "    accuracy                           0.62       114\n",
      "   macro avg       0.61      0.61      0.61       114\n",
      "weighted avg       0.64      0.62      0.63       114\n",
      "\n"
     ]
    },
    {
     "name": "stderr",
     "output_type": "stream",
     "text": [
      "C:\\Users\\Shaurya\\anaconda3\\Lib\\site-packages\\sklearn\\base.py:464: UserWarning: X does not have valid feature names, but StandardScaler was fitted with feature names\n",
      "  warnings.warn(\n"
     ]
    }
   ],
   "source": [
    "# Evaluate the model\n",
    "X_test_scaled = scaler.transform(X_test)  # Ensure test data is scaled\n",
    "y_pred = model.predict(X_test_scaled)\n",
    "accuracy = accuracy_score(y_test, y_pred)\n",
    "print(f\"Accuracy: {accuracy:.4f}\")\n",
    "report = classification_report(y_test, y_pred)\n",
    "print(\"Classification Report:\\n\", report)"
   ]
  },
  {
   "cell_type": "code",
   "execution_count": null,
   "id": "63cc3808",
   "metadata": {},
   "outputs": [],
   "source": []
  }
 ],
 "metadata": {
  "kernelspec": {
   "display_name": "Python 3 (ipykernel)",
   "language": "python",
   "name": "python3"
  },
  "language_info": {
   "codemirror_mode": {
    "name": "ipython",
    "version": 3
   },
   "file_extension": ".py",
   "mimetype": "text/x-python",
   "name": "python",
   "nbconvert_exporter": "python",
   "pygments_lexer": "ipython3",
   "version": "3.11.5"
  }
 },
 "nbformat": 4,
 "nbformat_minor": 5
}
