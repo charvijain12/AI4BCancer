{
 "cells": [
  {
   "cell_type": "code",
   "execution_count": 1,
   "id": "1d19dd0b",
   "metadata": {},
   "outputs": [
    {
     "name": "stdout",
     "output_type": "stream",
     "text": [
      "WARNING:tensorflow:`input_shape` is undefined or non-square, or `rows` is not in [96, 128, 160, 192, 224]. Weights for input shape (224, 224) will be loaded as the default.\n",
      "Downloading data from https://storage.googleapis.com/tensorflow/keras-applications/mobilenet_v2/mobilenet_v2_weights_tf_dim_ordering_tf_kernels_1.0_224_no_top.h5\n",
      "9406464/9406464 [==============================] - 1s 0us/step\n",
      "Epoch 1/10\n",
      "15/15 [==============================] - 7s 169ms/step - loss: 0.6866 - accuracy: 0.5736 - val_loss: 0.6846 - val_accuracy: 0.6140\n",
      "Epoch 2/10\n",
      "15/15 [==============================] - 1s 56ms/step - loss: 0.6796 - accuracy: 0.6286 - val_loss: 0.6784 - val_accuracy: 0.6228\n",
      "Epoch 3/10\n",
      "15/15 [==============================] - 1s 57ms/step - loss: 0.6737 - accuracy: 0.6286 - val_loss: 0.6731 - val_accuracy: 0.6228\n",
      "Epoch 4/10\n",
      "15/15 [==============================] - 1s 58ms/step - loss: 0.6687 - accuracy: 0.6286 - val_loss: 0.6690 - val_accuracy: 0.6228\n",
      "Epoch 5/10\n",
      "15/15 [==============================] - 1s 53ms/step - loss: 0.6645 - accuracy: 0.6286 - val_loss: 0.6647 - val_accuracy: 0.6228\n",
      "Epoch 6/10\n",
      "15/15 [==============================] - 1s 54ms/step - loss: 0.6598 - accuracy: 0.6286 - val_loss: 0.6609 - val_accuracy: 0.6228\n",
      "Epoch 7/10\n",
      "15/15 [==============================] - 1s 57ms/step - loss: 0.6559 - accuracy: 0.6286 - val_loss: 0.6570 - val_accuracy: 0.6228\n",
      "Epoch 8/10\n",
      "15/15 [==============================] - 1s 56ms/step - loss: 0.6521 - accuracy: 0.6286 - val_loss: 0.6535 - val_accuracy: 0.6228\n",
      "Epoch 9/10\n",
      "15/15 [==============================] - 1s 56ms/step - loss: 0.6487 - accuracy: 0.6286 - val_loss: 0.6502 - val_accuracy: 0.6228\n",
      "Epoch 10/10\n",
      "15/15 [==============================] - 1s 57ms/step - loss: 0.6452 - accuracy: 0.6286 - val_loss: 0.6468 - val_accuracy: 0.6228\n"
     ]
    }
   ],
   "source": [
    "import numpy as np\n",
    "import pandas as pd\n",
    "from sklearn.model_selection import train_test_split\n",
    "from sklearn.preprocessing import StandardScaler\n",
    "from tensorflow.keras.utils import to_categorical\n",
    "from tensorflow.keras import layers, models\n",
    "from tensorflow.keras.applications import MobileNetV2\n",
    "from sklearn.metrics import classification_report, accuracy_score\n",
    "\n",
    "# Load and preprocess the dataset\n",
    "df = pd.read_csv('C:\\\\Users\\\\Shaurya\\\\Downloads\\\\data.csv')\n",
    "df = df.drop(['id', 'Unnamed: 32'], axis=1)\n",
    "X = df.drop('diagnosis', axis=1)\n",
    "y = df['diagnosis'].apply(lambda x: 1 if x == 'M' else 0)\n",
    "y = to_categorical(y)\n",
    "\n",
    "# Standardize the features\n",
    "scaler = StandardScaler()\n",
    "X_scaled = scaler.fit_transform(X)\n",
    "\n",
    "# Pad the data to get 36 features (6x6)\n",
    "X_padded = np.pad(X_scaled, ((0, 0), (0, 36 - X_scaled.shape[1])), 'constant')\n",
    "\n",
    "# Reshape the data to 6x6 and then pad it to 32x32\n",
    "X_reshaped = np.reshape(X_padded, (-1, 6, 6))\n",
    "X_padded = np.pad(X_reshaped, ((0, 0), (0, 26), (0, 26)), 'constant')\n",
    "\n",
    "# Add an additional dimension to mimic 3 channels (RGB)\n",
    "X_padded = np.stack((X_padded,)*3, axis=-1)\n",
    "\n",
    "# Split the data into train and test sets\n",
    "X_train, X_test, y_train, y_test = train_test_split(X_padded, y, test_size=0.2, random_state=42)\n",
    "\n",
    "# Load the MobileNetV2 model\n",
    "base_model = MobileNetV2(include_top=False, input_shape=(32, 32, 3), pooling='avg')\n",
    "base_model.trainable = False\n",
    "\n",
    "# Build and compile the model\n",
    "model = models.Sequential([\n",
    "    base_model,\n",
    "    layers.Flatten(),\n",
    "    layers.Dense(2, activation='softmax')\n",
    "])\n",
    "model.compile(optimizer='adam', loss='categorical_crossentropy', metrics=['accuracy'])\n",
    "\n",
    "# Train the model\n",
    "history = model.fit(X_train, y_train, epochs=10, batch_size=32, validation_data=(X_test, y_test))"
   ]
  },
  {
   "cell_type": "code",
   "execution_count": 2,
   "id": "6161634f",
   "metadata": {},
   "outputs": [
    {
     "name": "stdout",
     "output_type": "stream",
     "text": [
      "4/4 [==============================] - 1s 34ms/step\n",
      "Accuracy: 0.6228\n",
      "Classification Report:\n",
      "               precision    recall  f1-score   support\n",
      "\n",
      "           0       0.62      1.00      0.77        71\n",
      "           1       0.00      0.00      0.00        43\n",
      "\n",
      "    accuracy                           0.62       114\n",
      "   macro avg       0.31      0.50      0.38       114\n",
      "weighted avg       0.39      0.62      0.48       114\n",
      "\n"
     ]
    },
    {
     "name": "stderr",
     "output_type": "stream",
     "text": [
      "C:\\Users\\Shaurya\\anaconda3\\Lib\\site-packages\\sklearn\\metrics\\_classification.py:1469: UndefinedMetricWarning: Precision and F-score are ill-defined and being set to 0.0 in labels with no predicted samples. Use `zero_division` parameter to control this behavior.\n",
      "  _warn_prf(average, modifier, msg_start, len(result))\n",
      "C:\\Users\\Shaurya\\anaconda3\\Lib\\site-packages\\sklearn\\metrics\\_classification.py:1469: UndefinedMetricWarning: Precision and F-score are ill-defined and being set to 0.0 in labels with no predicted samples. Use `zero_division` parameter to control this behavior.\n",
      "  _warn_prf(average, modifier, msg_start, len(result))\n",
      "C:\\Users\\Shaurya\\anaconda3\\Lib\\site-packages\\sklearn\\metrics\\_classification.py:1469: UndefinedMetricWarning: Precision and F-score are ill-defined and being set to 0.0 in labels with no predicted samples. Use `zero_division` parameter to control this behavior.\n",
      "  _warn_prf(average, modifier, msg_start, len(result))\n"
     ]
    }
   ],
   "source": [
    "# Evaluate the model\n",
    "y_pred_prob = model.predict(X_test)\n",
    "y_pred = np.argmax(y_pred_prob, axis=1)\n",
    "y_true = np.argmax(y_test, axis=1)\n",
    "accuracy = accuracy_score(y_true, y_pred)\n",
    "report = classification_report(y_true, y_pred)\n",
    "\n",
    "# Print the results\n",
    "print(f\"Accuracy: {accuracy:.4f}\")\n",
    "print(\"Classification Report:\\n\", report)"
   ]
  },
  {
   "cell_type": "code",
   "execution_count": null,
   "id": "5de6ff7c",
   "metadata": {},
   "outputs": [],
   "source": []
  }
 ],
 "metadata": {
  "kernelspec": {
   "display_name": "Python 3 (ipykernel)",
   "language": "python",
   "name": "python3"
  },
  "language_info": {
   "codemirror_mode": {
    "name": "ipython",
    "version": 3
   },
   "file_extension": ".py",
   "mimetype": "text/x-python",
   "name": "python",
   "nbconvert_exporter": "python",
   "pygments_lexer": "ipython3",
   "version": "3.11.5"
  }
 },
 "nbformat": 4,
 "nbformat_minor": 5
}
