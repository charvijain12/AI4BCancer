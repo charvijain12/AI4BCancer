{
 "cells": [
  {
   "cell_type": "code",
   "execution_count": 1,
   "id": "d4a8fab3",
   "metadata": {
    "scrolled": true
   },
   "outputs": [],
   "source": [
    "# Import necessary libraries\n",
    "import pandas as pd\n",
    "from sklearn.model_selection import train_test_split\n",
    "from sklearn.preprocessing import StandardScaler\n",
    "from sklearn.metrics import classification_report, accuracy_score\n",
    "from tensorflow import keras\n",
    "from tensorflow.keras.models import Sequential\n",
    "from tensorflow.keras.layers import Dense"
   ]
  },
  {
   "cell_type": "code",
   "execution_count": 2,
   "id": "4e5f4a76",
   "metadata": {},
   "outputs": [],
   "source": [
    "# Load the Wisconsin Breast Cancer dataset\n",
    "file_path = r'C:\\Users\\Shaurya\\Desktop\\BCancerAI\\Dataset\\data.csv'\n",
    "df = pd.read_csv(file_path)"
   ]
  },
  {
   "cell_type": "code",
   "execution_count": 3,
   "id": "770520bf",
   "metadata": {},
   "outputs": [],
   "source": [
    "# Drop unnecessary columns\n",
    "df = df.drop(columns=['id', 'Unnamed: 32'])"
   ]
  },
  {
   "cell_type": "code",
   "execution_count": 4,
   "id": "2d66e6af",
   "metadata": {},
   "outputs": [],
   "source": [
    "# Encode the 'diagnosis' column (M=1, B=0)\n",
    "from sklearn.preprocessing import LabelEncoder\n",
    "label_encoder = LabelEncoder()\n",
    "df['diagnosis'] = label_encoder.fit_transform(df['diagnosis'])"
   ]
  },
  {
   "cell_type": "code",
   "execution_count": 5,
   "id": "794e7ff3",
   "metadata": {},
   "outputs": [],
   "source": [
    "# Handle missing values by dropping rows with null values\n",
    "df = df.dropna()"
   ]
  },
  {
   "cell_type": "code",
   "execution_count": 6,
   "id": "e0482313",
   "metadata": {},
   "outputs": [],
   "source": [
    "# Split the dataset into features (X) and target variable (y)\n",
    "X = df.drop(columns=['diagnosis'])\n",
    "y = df['diagnosis']"
   ]
  },
  {
   "cell_type": "code",
   "execution_count": 7,
   "id": "4e42052c",
   "metadata": {},
   "outputs": [],
   "source": [
    "# Split the data into training and testing sets\n",
    "X_train, X_test, y_train, y_test = train_test_split(X, y, test_size=0.2, random_state=42)"
   ]
  },
  {
   "cell_type": "code",
   "execution_count": 8,
   "id": "c3c235d0",
   "metadata": {},
   "outputs": [],
   "source": [
    "# Standardize the features using StandardScaler\n",
    "scaler = StandardScaler()\n",
    "X_train_scaled = scaler.fit_transform(X_train)\n",
    "X_test_scaled = scaler.transform(X_test)"
   ]
  },
  {
   "cell_type": "code",
   "execution_count": 9,
   "id": "9a83a115",
   "metadata": {},
   "outputs": [],
   "source": [
    "# Build the Neural Network model\n",
    "model = Sequential()\n",
    "model.add(Dense(units=16, activation='relu', input_dim=X_train_scaled.shape[1]))\n",
    "model.add(Dense(units=8, activation='relu'))\n",
    "model.add(Dense(units=1, activation='sigmoid'))"
   ]
  },
  {
   "cell_type": "code",
   "execution_count": 10,
   "id": "40959166",
   "metadata": {},
   "outputs": [],
   "source": [
    "# Compile the model\n",
    "model.compile(optimizer='adam', loss='binary_crossentropy', metrics=['accuracy'])"
   ]
  },
  {
   "cell_type": "code",
   "execution_count": 11,
   "id": "cf39ce7b",
   "metadata": {},
   "outputs": [
    {
     "name": "stdout",
     "output_type": "stream",
     "text": [
      "Epoch 1/50\n",
      "12/12 - 1s - loss: 0.6325 - accuracy: 0.6236 - val_loss: 0.5790 - val_accuracy: 0.6923 - 789ms/epoch - 66ms/step\n",
      "Epoch 2/50\n",
      "12/12 - 0s - loss: 0.5014 - accuracy: 0.7775 - val_loss: 0.4713 - val_accuracy: 0.7692 - 42ms/epoch - 3ms/step\n",
      "Epoch 3/50\n",
      "12/12 - 0s - loss: 0.4063 - accuracy: 0.8462 - val_loss: 0.3977 - val_accuracy: 0.8132 - 39ms/epoch - 3ms/step\n",
      "Epoch 4/50\n",
      "12/12 - 0s - loss: 0.3390 - accuracy: 0.8764 - val_loss: 0.3443 - val_accuracy: 0.8571 - 41ms/epoch - 3ms/step\n",
      "Epoch 5/50\n",
      "12/12 - 0s - loss: 0.2889 - accuracy: 0.9038 - val_loss: 0.3055 - val_accuracy: 0.8791 - 41ms/epoch - 3ms/step\n",
      "Epoch 6/50\n",
      "12/12 - 0s - loss: 0.2501 - accuracy: 0.9258 - val_loss: 0.2755 - val_accuracy: 0.9121 - 42ms/epoch - 3ms/step\n",
      "Epoch 7/50\n",
      "12/12 - 0s - loss: 0.2190 - accuracy: 0.9423 - val_loss: 0.2513 - val_accuracy: 0.9231 - 42ms/epoch - 4ms/step\n",
      "Epoch 8/50\n",
      "12/12 - 0s - loss: 0.1923 - accuracy: 0.9505 - val_loss: 0.2326 - val_accuracy: 0.9451 - 40ms/epoch - 3ms/step\n",
      "Epoch 9/50\n",
      "12/12 - 0s - loss: 0.1700 - accuracy: 0.9615 - val_loss: 0.2161 - val_accuracy: 0.9560 - 40ms/epoch - 3ms/step\n",
      "Epoch 10/50\n",
      "12/12 - 0s - loss: 0.1510 - accuracy: 0.9643 - val_loss: 0.2010 - val_accuracy: 0.9560 - 39ms/epoch - 3ms/step\n",
      "Epoch 11/50\n",
      "12/12 - 0s - loss: 0.1353 - accuracy: 0.9643 - val_loss: 0.1874 - val_accuracy: 0.9560 - 39ms/epoch - 3ms/step\n",
      "Epoch 12/50\n",
      "12/12 - 0s - loss: 0.1220 - accuracy: 0.9643 - val_loss: 0.1763 - val_accuracy: 0.9560 - 42ms/epoch - 4ms/step\n",
      "Epoch 13/50\n",
      "12/12 - 0s - loss: 0.1109 - accuracy: 0.9725 - val_loss: 0.1670 - val_accuracy: 0.9560 - 40ms/epoch - 3ms/step\n",
      "Epoch 14/50\n",
      "12/12 - 0s - loss: 0.1019 - accuracy: 0.9725 - val_loss: 0.1588 - val_accuracy: 0.9560 - 39ms/epoch - 3ms/step\n",
      "Epoch 15/50\n",
      "12/12 - 0s - loss: 0.0938 - accuracy: 0.9753 - val_loss: 0.1524 - val_accuracy: 0.9670 - 42ms/epoch - 3ms/step\n",
      "Epoch 16/50\n",
      "12/12 - 0s - loss: 0.0878 - accuracy: 0.9725 - val_loss: 0.1464 - val_accuracy: 0.9670 - 42ms/epoch - 4ms/step\n",
      "Epoch 17/50\n",
      "12/12 - 0s - loss: 0.0820 - accuracy: 0.9725 - val_loss: 0.1409 - val_accuracy: 0.9670 - 39ms/epoch - 3ms/step\n",
      "Epoch 18/50\n",
      "12/12 - 0s - loss: 0.0775 - accuracy: 0.9753 - val_loss: 0.1367 - val_accuracy: 0.9670 - 40ms/epoch - 3ms/step\n",
      "Epoch 19/50\n",
      "12/12 - 0s - loss: 0.0737 - accuracy: 0.9780 - val_loss: 0.1327 - val_accuracy: 0.9670 - 40ms/epoch - 3ms/step\n",
      "Epoch 20/50\n",
      "12/12 - 0s - loss: 0.0699 - accuracy: 0.9780 - val_loss: 0.1294 - val_accuracy: 0.9670 - 42ms/epoch - 3ms/step\n",
      "Epoch 21/50\n",
      "12/12 - 0s - loss: 0.0669 - accuracy: 0.9780 - val_loss: 0.1271 - val_accuracy: 0.9670 - 40ms/epoch - 3ms/step\n",
      "Epoch 22/50\n",
      "12/12 - 0s - loss: 0.0640 - accuracy: 0.9808 - val_loss: 0.1242 - val_accuracy: 0.9670 - 40ms/epoch - 3ms/step\n",
      "Epoch 23/50\n",
      "12/12 - 0s - loss: 0.0613 - accuracy: 0.9808 - val_loss: 0.1212 - val_accuracy: 0.9670 - 40ms/epoch - 3ms/step\n",
      "Epoch 24/50\n",
      "12/12 - 0s - loss: 0.0592 - accuracy: 0.9808 - val_loss: 0.1189 - val_accuracy: 0.9670 - 42ms/epoch - 3ms/step\n",
      "Epoch 25/50\n",
      "12/12 - 0s - loss: 0.0570 - accuracy: 0.9835 - val_loss: 0.1157 - val_accuracy: 0.9670 - 42ms/epoch - 3ms/step\n",
      "Epoch 26/50\n",
      "12/12 - 0s - loss: 0.0548 - accuracy: 0.9863 - val_loss: 0.1145 - val_accuracy: 0.9670 - 45ms/epoch - 4ms/step\n",
      "Epoch 27/50\n",
      "12/12 - 0s - loss: 0.0528 - accuracy: 0.9835 - val_loss: 0.1131 - val_accuracy: 0.9670 - 44ms/epoch - 4ms/step\n",
      "Epoch 28/50\n",
      "12/12 - 0s - loss: 0.0510 - accuracy: 0.9808 - val_loss: 0.1122 - val_accuracy: 0.9670 - 44ms/epoch - 4ms/step\n",
      "Epoch 29/50\n",
      "12/12 - 0s - loss: 0.0493 - accuracy: 0.9808 - val_loss: 0.1106 - val_accuracy: 0.9670 - 42ms/epoch - 4ms/step\n",
      "Epoch 30/50\n",
      "12/12 - 0s - loss: 0.0480 - accuracy: 0.9863 - val_loss: 0.1099 - val_accuracy: 0.9670 - 45ms/epoch - 4ms/step\n",
      "Epoch 31/50\n",
      "12/12 - 0s - loss: 0.0463 - accuracy: 0.9863 - val_loss: 0.1091 - val_accuracy: 0.9670 - 53ms/epoch - 4ms/step\n",
      "Epoch 32/50\n",
      "12/12 - 0s - loss: 0.0450 - accuracy: 0.9863 - val_loss: 0.1078 - val_accuracy: 0.9670 - 48ms/epoch - 4ms/step\n",
      "Epoch 33/50\n",
      "12/12 - 0s - loss: 0.0439 - accuracy: 0.9863 - val_loss: 0.1076 - val_accuracy: 0.9670 - 45ms/epoch - 4ms/step\n",
      "Epoch 34/50\n",
      "12/12 - 0s - loss: 0.0431 - accuracy: 0.9890 - val_loss: 0.1065 - val_accuracy: 0.9670 - 42ms/epoch - 4ms/step\n",
      "Epoch 35/50\n",
      "12/12 - 0s - loss: 0.0415 - accuracy: 0.9890 - val_loss: 0.1063 - val_accuracy: 0.9670 - 42ms/epoch - 3ms/step\n",
      "Epoch 36/50\n",
      "12/12 - 0s - loss: 0.0403 - accuracy: 0.9890 - val_loss: 0.1058 - val_accuracy: 0.9670 - 45ms/epoch - 4ms/step\n",
      "Epoch 37/50\n",
      "12/12 - 0s - loss: 0.0394 - accuracy: 0.9890 - val_loss: 0.1054 - val_accuracy: 0.9780 - 47ms/epoch - 4ms/step\n",
      "Epoch 38/50\n",
      "12/12 - 0s - loss: 0.0384 - accuracy: 0.9890 - val_loss: 0.1045 - val_accuracy: 0.9780 - 46ms/epoch - 4ms/step\n",
      "Epoch 39/50\n",
      "12/12 - 0s - loss: 0.0374 - accuracy: 0.9890 - val_loss: 0.1043 - val_accuracy: 0.9780 - 46ms/epoch - 4ms/step\n",
      "Epoch 40/50\n",
      "12/12 - 0s - loss: 0.0364 - accuracy: 0.9890 - val_loss: 0.1035 - val_accuracy: 0.9780 - 45ms/epoch - 4ms/step\n",
      "Epoch 41/50\n",
      "12/12 - 0s - loss: 0.0355 - accuracy: 0.9918 - val_loss: 0.1030 - val_accuracy: 0.9780 - 43ms/epoch - 4ms/step\n",
      "Epoch 42/50\n",
      "12/12 - 0s - loss: 0.0346 - accuracy: 0.9918 - val_loss: 0.1033 - val_accuracy: 0.9780 - 44ms/epoch - 4ms/step\n",
      "Epoch 43/50\n",
      "12/12 - 0s - loss: 0.0339 - accuracy: 0.9918 - val_loss: 0.1032 - val_accuracy: 0.9780 - 41ms/epoch - 3ms/step\n",
      "Epoch 44/50\n",
      "12/12 - 0s - loss: 0.0332 - accuracy: 0.9918 - val_loss: 0.1032 - val_accuracy: 0.9780 - 43ms/epoch - 4ms/step\n",
      "Epoch 45/50\n",
      "12/12 - 0s - loss: 0.0323 - accuracy: 0.9918 - val_loss: 0.1027 - val_accuracy: 0.9670 - 44ms/epoch - 4ms/step\n",
      "Epoch 46/50\n",
      "12/12 - 0s - loss: 0.0315 - accuracy: 0.9918 - val_loss: 0.1020 - val_accuracy: 0.9670 - 42ms/epoch - 3ms/step\n",
      "Epoch 47/50\n",
      "12/12 - 0s - loss: 0.0310 - accuracy: 0.9890 - val_loss: 0.1019 - val_accuracy: 0.9670 - 39ms/epoch - 3ms/step\n",
      "Epoch 48/50\n",
      "12/12 - 0s - loss: 0.0302 - accuracy: 0.9918 - val_loss: 0.1028 - val_accuracy: 0.9670 - 43ms/epoch - 4ms/step\n",
      "Epoch 49/50\n",
      "12/12 - 0s - loss: 0.0295 - accuracy: 0.9918 - val_loss: 0.1025 - val_accuracy: 0.9560 - 43ms/epoch - 4ms/step\n",
      "Epoch 50/50\n",
      "12/12 - 0s - loss: 0.0287 - accuracy: 0.9918 - val_loss: 0.1030 - val_accuracy: 0.9560 - 45ms/epoch - 4ms/step\n"
     ]
    },
    {
     "data": {
      "text/plain": [
       "<keras.src.callbacks.History at 0x2345e15cc50>"
      ]
     },
     "execution_count": 11,
     "metadata": {},
     "output_type": "execute_result"
    }
   ],
   "source": [
    "# Train the model\n",
    "model.fit(X_train_scaled, y_train, epochs=50, batch_size=32, validation_split=0.2, verbose=2)"
   ]
  },
  {
   "cell_type": "code",
   "execution_count": 12,
   "id": "58416955",
   "metadata": {},
   "outputs": [
    {
     "name": "stdout",
     "output_type": "stream",
     "text": [
      "4/4 [==============================] - 0s 2ms/step\n"
     ]
    }
   ],
   "source": [
    "# Evaluate the model on the test set\n",
    "y_pred_prob = model.predict(X_test_scaled)\n",
    "y_pred = (y_pred_prob > 0.5).astype(int)"
   ]
  },
  {
   "cell_type": "code",
   "execution_count": 13,
   "id": "5524635e",
   "metadata": {},
   "outputs": [
    {
     "name": "stdout",
     "output_type": "stream",
     "text": [
      "Accuracy: 0.9912\n",
      "Classification Report:\n",
      "               precision    recall  f1-score   support\n",
      "\n",
      "           0       0.99      1.00      0.99        71\n",
      "           1       1.00      0.98      0.99        43\n",
      "\n",
      "    accuracy                           0.99       114\n",
      "   macro avg       0.99      0.99      0.99       114\n",
      "weighted avg       0.99      0.99      0.99       114\n",
      "\n"
     ]
    }
   ],
   "source": [
    "# Print accuracy and classification report\n",
    "accuracy = accuracy_score(y_test, y_pred)\n",
    "report = classification_report(y_test, y_pred)\n",
    "\n",
    "print(f\"Accuracy: {accuracy:.4f}\")\n",
    "print(\"Classification Report:\\n\", report)"
   ]
  },
  {
   "cell_type": "code",
   "execution_count": null,
   "id": "d674129e",
   "metadata": {},
   "outputs": [],
   "source": []
  }
 ],
 "metadata": {
  "kernelspec": {
   "display_name": "Python 3 (ipykernel)",
   "language": "python",
   "name": "python3"
  },
  "language_info": {
   "codemirror_mode": {
    "name": "ipython",
    "version": 3
   },
   "file_extension": ".py",
   "mimetype": "text/x-python",
   "name": "python",
   "nbconvert_exporter": "python",
   "pygments_lexer": "ipython3",
   "version": "3.11.5"
  }
 },
 "nbformat": 4,
 "nbformat_minor": 5
}
