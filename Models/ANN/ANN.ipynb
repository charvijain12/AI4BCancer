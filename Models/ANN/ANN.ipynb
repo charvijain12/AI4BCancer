{
 "cells": [
  {
   "cell_type": "code",
   "execution_count": 1,
   "id": "d4a8fab3",
   "metadata": {
    "scrolled": true
   },
   "outputs": [],
   "source": [
    "# Import necessary libraries\n",
    "import pandas as pd\n",
    "from sklearn.model_selection import train_test_split\n",
    "from sklearn.preprocessing import StandardScaler\n",
    "from sklearn.metrics import classification_report, accuracy_score\n",
    "from tensorflow import keras\n",
    "from tensorflow.keras.models import Sequential\n",
    "from tensorflow.keras.layers import Dense"
   ]
  },
  {
   "cell_type": "code",
   "execution_count": 2,
   "id": "4e5f4a76",
   "metadata": {},
   "outputs": [],
   "source": [
    "# Load the Wisconsin Breast Cancer dataset\n",
    "file_path = r'C:\\Users\\Shaurya\\Desktop\\BCancerAI\\Dataset\\data.csv'\n",
    "df = pd.read_csv(file_path)"
   ]
  },
  {
   "cell_type": "code",
   "execution_count": 3,
   "id": "770520bf",
   "metadata": {},
   "outputs": [],
   "source": [
    "# Drop unnecessary columns\n",
    "df = df.drop(columns=['id', 'Unnamed: 32'])"
   ]
  },
  {
   "cell_type": "code",
   "execution_count": 4,
   "id": "2d66e6af",
   "metadata": {},
   "outputs": [],
   "source": [
    "# Encode the 'diagnosis' column (M=1, B=0)\n",
    "from sklearn.preprocessing import LabelEncoder\n",
    "label_encoder = LabelEncoder()\n",
    "df['diagnosis'] = label_encoder.fit_transform(df['diagnosis'])"
   ]
  },
  {
   "cell_type": "code",
   "execution_count": 5,
   "id": "794e7ff3",
   "metadata": {},
   "outputs": [],
   "source": [
    "# Handle missing values by dropping rows with null values\n",
    "df = df.dropna()"
   ]
  },
  {
   "cell_type": "code",
   "execution_count": 6,
   "id": "e0482313",
   "metadata": {},
   "outputs": [],
   "source": [
    "# Split the dataset into features (X) and target variable (y)\n",
    "X = df.drop(columns=['diagnosis'])\n",
    "y = df['diagnosis']"
   ]
  },
  {
   "cell_type": "code",
   "execution_count": 7,
   "id": "4e42052c",
   "metadata": {},
   "outputs": [],
   "source": [
    "# Split the data into training and testing sets\n",
    "X_train, X_test, y_train, y_test = train_test_split(X, y, test_size=0.2, random_state=42)"
   ]
  },
  {
   "cell_type": "code",
   "execution_count": 8,
   "id": "c3c235d0",
   "metadata": {},
   "outputs": [],
   "source": [
    "# Standardize the features using StandardScaler\n",
    "scaler = StandardScaler()\n",
    "X_train_scaled = scaler.fit_transform(X_train)\n",
    "X_test_scaled = scaler.transform(X_test)"
   ]
  },
  {
   "cell_type": "code",
   "execution_count": 9,
   "id": "9a83a115",
   "metadata": {},
   "outputs": [],
   "source": [
    "# Build the Neural Network model\n",
    "model = Sequential()\n",
    "model.add(Dense(units=16, activation='relu', input_dim=X_train_scaled.shape[1]))\n",
    "model.add(Dense(units=8, activation='relu'))\n",
    "model.add(Dense(units=1, activation='sigmoid'))"
   ]
  },
  {
   "cell_type": "code",
   "execution_count": 10,
   "id": "40959166",
   "metadata": {},
   "outputs": [],
   "source": [
    "# Compile the model\n",
    "model.compile(optimizer='adam', loss='binary_crossentropy', metrics=['accuracy'])"
   ]
  },
  {
   "cell_type": "code",
   "execution_count": 11,
   "id": "cf39ce7b",
   "metadata": {},
   "outputs": [
    {
     "name": "stdout",
     "output_type": "stream",
     "text": [
      "Epoch 1/50\n",
      "12/12 - 1s - loss: 0.7966 - accuracy: 0.4231 - val_loss: 0.6633 - val_accuracy: 0.5824 - 820ms/epoch - 68ms/step\n",
      "Epoch 2/50\n",
      "12/12 - 0s - loss: 0.6514 - accuracy: 0.6401 - val_loss: 0.5607 - val_accuracy: 0.7253 - 50ms/epoch - 4ms/step\n",
      "Epoch 3/50\n",
      "12/12 - 0s - loss: 0.5378 - accuracy: 0.7665 - val_loss: 0.4713 - val_accuracy: 0.8132 - 49ms/epoch - 4ms/step\n",
      "Epoch 4/50\n",
      "12/12 - 0s - loss: 0.4463 - accuracy: 0.8407 - val_loss: 0.3905 - val_accuracy: 0.8462 - 49ms/epoch - 4ms/step\n",
      "Epoch 5/50\n",
      "12/12 - 0s - loss: 0.3728 - accuracy: 0.8819 - val_loss: 0.3323 - val_accuracy: 0.9011 - 44ms/epoch - 4ms/step\n",
      "Epoch 6/50\n",
      "12/12 - 0s - loss: 0.3206 - accuracy: 0.8901 - val_loss: 0.2883 - val_accuracy: 0.9011 - 51ms/epoch - 4ms/step\n",
      "Epoch 7/50\n",
      "12/12 - 0s - loss: 0.2805 - accuracy: 0.9066 - val_loss: 0.2549 - val_accuracy: 0.9011 - 43ms/epoch - 4ms/step\n",
      "Epoch 8/50\n",
      "12/12 - 0s - loss: 0.2485 - accuracy: 0.9203 - val_loss: 0.2306 - val_accuracy: 0.9341 - 48ms/epoch - 4ms/step\n",
      "Epoch 9/50\n",
      "12/12 - 0s - loss: 0.2244 - accuracy: 0.9313 - val_loss: 0.2102 - val_accuracy: 0.9451 - 48ms/epoch - 4ms/step\n",
      "Epoch 10/50\n",
      "12/12 - 0s - loss: 0.2044 - accuracy: 0.9368 - val_loss: 0.1932 - val_accuracy: 0.9451 - 46ms/epoch - 4ms/step\n",
      "Epoch 11/50\n",
      "12/12 - 0s - loss: 0.1882 - accuracy: 0.9423 - val_loss: 0.1803 - val_accuracy: 0.9560 - 44ms/epoch - 4ms/step\n",
      "Epoch 12/50\n",
      "12/12 - 0s - loss: 0.1739 - accuracy: 0.9451 - val_loss: 0.1688 - val_accuracy: 0.9670 - 51ms/epoch - 4ms/step\n",
      "Epoch 13/50\n",
      "12/12 - 0s - loss: 0.1614 - accuracy: 0.9478 - val_loss: 0.1580 - val_accuracy: 0.9670 - 46ms/epoch - 4ms/step\n",
      "Epoch 14/50\n",
      "12/12 - 0s - loss: 0.1502 - accuracy: 0.9505 - val_loss: 0.1482 - val_accuracy: 0.9670 - 54ms/epoch - 4ms/step\n",
      "Epoch 15/50\n",
      "12/12 - 0s - loss: 0.1401 - accuracy: 0.9505 - val_loss: 0.1399 - val_accuracy: 0.9670 - 44ms/epoch - 4ms/step\n",
      "Epoch 16/50\n",
      "12/12 - 0s - loss: 0.1309 - accuracy: 0.9505 - val_loss: 0.1332 - val_accuracy: 0.9670 - 43ms/epoch - 4ms/step\n",
      "Epoch 17/50\n",
      "12/12 - 0s - loss: 0.1220 - accuracy: 0.9560 - val_loss: 0.1264 - val_accuracy: 0.9670 - 44ms/epoch - 4ms/step\n",
      "Epoch 18/50\n",
      "12/12 - 0s - loss: 0.1138 - accuracy: 0.9615 - val_loss: 0.1205 - val_accuracy: 0.9780 - 43ms/epoch - 4ms/step\n",
      "Epoch 19/50\n",
      "12/12 - 0s - loss: 0.1067 - accuracy: 0.9670 - val_loss: 0.1147 - val_accuracy: 0.9780 - 39ms/epoch - 3ms/step\n",
      "Epoch 20/50\n",
      "12/12 - 0s - loss: 0.0999 - accuracy: 0.9698 - val_loss: 0.1096 - val_accuracy: 0.9780 - 42ms/epoch - 3ms/step\n",
      "Epoch 21/50\n",
      "12/12 - 0s - loss: 0.0936 - accuracy: 0.9698 - val_loss: 0.1059 - val_accuracy: 0.9780 - 40ms/epoch - 3ms/step\n",
      "Epoch 22/50\n",
      "12/12 - 0s - loss: 0.0883 - accuracy: 0.9725 - val_loss: 0.1019 - val_accuracy: 0.9780 - 36ms/epoch - 3ms/step\n",
      "Epoch 23/50\n",
      "12/12 - 0s - loss: 0.0832 - accuracy: 0.9780 - val_loss: 0.0994 - val_accuracy: 0.9780 - 43ms/epoch - 4ms/step\n",
      "Epoch 24/50\n",
      "12/12 - 0s - loss: 0.0789 - accuracy: 0.9780 - val_loss: 0.0967 - val_accuracy: 0.9780 - 41ms/epoch - 3ms/step\n",
      "Epoch 25/50\n",
      "12/12 - 0s - loss: 0.0750 - accuracy: 0.9835 - val_loss: 0.0941 - val_accuracy: 0.9780 - 43ms/epoch - 4ms/step\n",
      "Epoch 26/50\n",
      "12/12 - 0s - loss: 0.0713 - accuracy: 0.9835 - val_loss: 0.0925 - val_accuracy: 0.9780 - 46ms/epoch - 4ms/step\n",
      "Epoch 27/50\n",
      "12/12 - 0s - loss: 0.0680 - accuracy: 0.9835 - val_loss: 0.0907 - val_accuracy: 0.9780 - 47ms/epoch - 4ms/step\n",
      "Epoch 28/50\n",
      "12/12 - 0s - loss: 0.0647 - accuracy: 0.9863 - val_loss: 0.0889 - val_accuracy: 0.9780 - 44ms/epoch - 4ms/step\n",
      "Epoch 29/50\n",
      "12/12 - 0s - loss: 0.0618 - accuracy: 0.9863 - val_loss: 0.0876 - val_accuracy: 0.9780 - 43ms/epoch - 4ms/step\n",
      "Epoch 30/50\n",
      "12/12 - 0s - loss: 0.0593 - accuracy: 0.9863 - val_loss: 0.0860 - val_accuracy: 0.9780 - 41ms/epoch - 3ms/step\n",
      "Epoch 31/50\n",
      "12/12 - 0s - loss: 0.0568 - accuracy: 0.9863 - val_loss: 0.0845 - val_accuracy: 0.9780 - 42ms/epoch - 4ms/step\n",
      "Epoch 32/50\n",
      "12/12 - 0s - loss: 0.0547 - accuracy: 0.9863 - val_loss: 0.0831 - val_accuracy: 0.9780 - 44ms/epoch - 4ms/step\n",
      "Epoch 33/50\n",
      "12/12 - 0s - loss: 0.0524 - accuracy: 0.9863 - val_loss: 0.0822 - val_accuracy: 0.9780 - 43ms/epoch - 4ms/step\n",
      "Epoch 34/50\n",
      "12/12 - 0s - loss: 0.0505 - accuracy: 0.9863 - val_loss: 0.0807 - val_accuracy: 0.9780 - 43ms/epoch - 4ms/step\n",
      "Epoch 35/50\n",
      "12/12 - 0s - loss: 0.0488 - accuracy: 0.9890 - val_loss: 0.0803 - val_accuracy: 0.9780 - 44ms/epoch - 4ms/step\n",
      "Epoch 36/50\n",
      "12/12 - 0s - loss: 0.0470 - accuracy: 0.9890 - val_loss: 0.0794 - val_accuracy: 0.9780 - 44ms/epoch - 4ms/step\n",
      "Epoch 37/50\n",
      "12/12 - 0s - loss: 0.0454 - accuracy: 0.9890 - val_loss: 0.0785 - val_accuracy: 0.9780 - 48ms/epoch - 4ms/step\n",
      "Epoch 38/50\n",
      "12/12 - 0s - loss: 0.0439 - accuracy: 0.9918 - val_loss: 0.0776 - val_accuracy: 0.9780 - 51ms/epoch - 4ms/step\n",
      "Epoch 39/50\n",
      "12/12 - 0s - loss: 0.0425 - accuracy: 0.9918 - val_loss: 0.0766 - val_accuracy: 0.9780 - 45ms/epoch - 4ms/step\n",
      "Epoch 40/50\n",
      "12/12 - 0s - loss: 0.0412 - accuracy: 0.9918 - val_loss: 0.0762 - val_accuracy: 0.9780 - 50ms/epoch - 4ms/step\n",
      "Epoch 41/50\n",
      "12/12 - 0s - loss: 0.0400 - accuracy: 0.9918 - val_loss: 0.0759 - val_accuracy: 0.9780 - 45ms/epoch - 4ms/step\n",
      "Epoch 42/50\n",
      "12/12 - 0s - loss: 0.0387 - accuracy: 0.9918 - val_loss: 0.0753 - val_accuracy: 0.9780 - 49ms/epoch - 4ms/step\n",
      "Epoch 43/50\n",
      "12/12 - 0s - loss: 0.0377 - accuracy: 0.9918 - val_loss: 0.0748 - val_accuracy: 0.9780 - 47ms/epoch - 4ms/step\n",
      "Epoch 44/50\n",
      "12/12 - 0s - loss: 0.0367 - accuracy: 0.9918 - val_loss: 0.0744 - val_accuracy: 0.9780 - 44ms/epoch - 4ms/step\n",
      "Epoch 45/50\n",
      "12/12 - 0s - loss: 0.0356 - accuracy: 0.9918 - val_loss: 0.0746 - val_accuracy: 0.9780 - 42ms/epoch - 4ms/step\n",
      "Epoch 46/50\n",
      "12/12 - 0s - loss: 0.0347 - accuracy: 0.9945 - val_loss: 0.0736 - val_accuracy: 0.9780 - 45ms/epoch - 4ms/step\n",
      "Epoch 47/50\n",
      "12/12 - 0s - loss: 0.0338 - accuracy: 0.9945 - val_loss: 0.0731 - val_accuracy: 0.9780 - 43ms/epoch - 4ms/step\n",
      "Epoch 48/50\n",
      "12/12 - 0s - loss: 0.0329 - accuracy: 0.9945 - val_loss: 0.0733 - val_accuracy: 0.9780 - 43ms/epoch - 4ms/step\n",
      "Epoch 49/50\n",
      "12/12 - 0s - loss: 0.0323 - accuracy: 0.9945 - val_loss: 0.0730 - val_accuracy: 0.9780 - 41ms/epoch - 3ms/step\n",
      "Epoch 50/50\n",
      "12/12 - 0s - loss: 0.0312 - accuracy: 0.9945 - val_loss: 0.0732 - val_accuracy: 0.9780 - 41ms/epoch - 3ms/step\n"
     ]
    },
    {
     "data": {
      "text/plain": [
       "<keras.src.callbacks.History at 0x1e3a38dd350>"
      ]
     },
     "execution_count": 11,
     "metadata": {},
     "output_type": "execute_result"
    }
   ],
   "source": [
    "# Train the model\n",
    "model.fit(X_train_scaled, y_train, epochs=50, batch_size=32, validation_split=0.2, verbose=2)"
   ]
  },
  {
   "cell_type": "code",
   "execution_count": 12,
   "id": "58416955",
   "metadata": {},
   "outputs": [
    {
     "name": "stdout",
     "output_type": "stream",
     "text": [
      "4/4 [==============================] - 0s 2ms/step\n"
     ]
    }
   ],
   "source": [
    "# Evaluate the model on the test set\n",
    "y_pred_prob = model.predict(X_test_scaled)\n",
    "y_pred = (y_pred_prob > 0.5).astype(int)"
   ]
  },
  {
   "cell_type": "code",
   "execution_count": 13,
   "id": "5524635e",
   "metadata": {},
   "outputs": [
    {
     "name": "stdout",
     "output_type": "stream",
     "text": [
      "Accuracy: 0.9649\n",
      "Classification Report:\n",
      "               precision    recall  f1-score   support\n",
      "\n",
      "           0       0.99      0.96      0.97        71\n",
      "           1       0.93      0.98      0.95        43\n",
      "\n",
      "    accuracy                           0.96       114\n",
      "   macro avg       0.96      0.97      0.96       114\n",
      "weighted avg       0.97      0.96      0.97       114\n",
      "\n"
     ]
    }
   ],
   "source": [
    "# Print accuracy and classification report\n",
    "accuracy = accuracy_score(y_test, y_pred)\n",
    "report = classification_report(y_test, y_pred)\n",
    "\n",
    "print(f\"Accuracy: {accuracy:.4f}\")\n",
    "print(\"Classification Report:\\n\", report)"
   ]
  },
  {
   "cell_type": "code",
   "execution_count": null,
   "id": "d674129e",
   "metadata": {},
   "outputs": [],
   "source": []
  }
 ],
 "metadata": {
  "kernelspec": {
   "display_name": "Python 3 (ipykernel)",
   "language": "python",
   "name": "python3"
  },
  "language_info": {
   "codemirror_mode": {
    "name": "ipython",
    "version": 3
   },
   "file_extension": ".py",
   "mimetype": "text/x-python",
   "name": "python",
   "nbconvert_exporter": "python",
   "pygments_lexer": "ipython3",
   "version": "3.11.5"
  }
 },
 "nbformat": 4,
 "nbformat_minor": 5
}
