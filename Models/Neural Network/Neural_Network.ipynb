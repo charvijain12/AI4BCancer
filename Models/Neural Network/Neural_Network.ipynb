{
 "cells": [
  {
   "cell_type": "code",
   "execution_count": 1,
   "id": "d4a8fab3",
   "metadata": {
    "scrolled": true
   },
   "outputs": [],
   "source": [
    "# Import necessary libraries\n",
    "import pandas as pd\n",
    "from sklearn.model_selection import train_test_split\n",
    "from sklearn.preprocessing import StandardScaler\n",
    "from sklearn.metrics import classification_report, accuracy_score\n",
    "from tensorflow import keras\n",
    "from tensorflow.keras.models import Sequential\n",
    "from tensorflow.keras.layers import Dense"
   ]
  },
  {
   "cell_type": "code",
   "execution_count": 2,
   "id": "4e5f4a76",
   "metadata": {},
   "outputs": [],
   "source": [
    "# Load the Wisconsin Breast Cancer dataset\n",
    "file_path = r'C:\\Users\\Shaurya\\Desktop\\BCancerAI\\Dataset\\data.csv'\n",
    "df = pd.read_csv(file_path)"
   ]
  },
  {
   "cell_type": "code",
   "execution_count": 3,
   "id": "770520bf",
   "metadata": {},
   "outputs": [],
   "source": [
    "# Drop unnecessary columns\n",
    "df = df.drop(columns=['id', 'Unnamed: 32'])"
   ]
  },
  {
   "cell_type": "code",
   "execution_count": 4,
   "id": "2d66e6af",
   "metadata": {},
   "outputs": [],
   "source": [
    "# Encode the 'diagnosis' column (M=1, B=0)\n",
    "from sklearn.preprocessing import LabelEncoder\n",
    "label_encoder = LabelEncoder()\n",
    "df['diagnosis'] = label_encoder.fit_transform(df['diagnosis'])"
   ]
  },
  {
   "cell_type": "code",
   "execution_count": 5,
   "id": "794e7ff3",
   "metadata": {},
   "outputs": [],
   "source": [
    "# Handle missing values by dropping rows with null values\n",
    "df = df.dropna()"
   ]
  },
  {
   "cell_type": "code",
   "execution_count": 6,
   "id": "e0482313",
   "metadata": {},
   "outputs": [],
   "source": [
    "# Split the dataset into features (X) and target variable (y)\n",
    "X = df.drop(columns=['diagnosis'])\n",
    "y = df['diagnosis']"
   ]
  },
  {
   "cell_type": "code",
   "execution_count": 7,
   "id": "4e42052c",
   "metadata": {},
   "outputs": [],
   "source": [
    "# Split the data into training and testing sets\n",
    "X_train, X_test, y_train, y_test = train_test_split(X, y, test_size=0.2, random_state=42)"
   ]
  },
  {
   "cell_type": "code",
   "execution_count": 8,
   "id": "c3c235d0",
   "metadata": {},
   "outputs": [],
   "source": [
    "# Standardize the features using StandardScaler\n",
    "scaler = StandardScaler()\n",
    "X_train_scaled = scaler.fit_transform(X_train)\n",
    "X_test_scaled = scaler.transform(X_test)"
   ]
  },
  {
   "cell_type": "code",
   "execution_count": 9,
   "id": "9a83a115",
   "metadata": {},
   "outputs": [],
   "source": [
    "# Build the Neural Network model\n",
    "model = Sequential()\n",
    "model.add(Dense(units=16, activation='relu', input_dim=X_train_scaled.shape[1]))\n",
    "model.add(Dense(units=8, activation='relu'))\n",
    "model.add(Dense(units=1, activation='sigmoid'))"
   ]
  },
  {
   "cell_type": "code",
   "execution_count": 10,
   "id": "40959166",
   "metadata": {},
   "outputs": [],
   "source": [
    "# Compile the model\n",
    "model.compile(optimizer='adam', loss='binary_crossentropy', metrics=['accuracy'])"
   ]
  },
  {
   "cell_type": "code",
   "execution_count": 11,
   "id": "cf39ce7b",
   "metadata": {},
   "outputs": [
    {
     "name": "stdout",
     "output_type": "stream",
     "text": [
      "Epoch 1/50\n",
      "12/12 [==============================] - 1s 22ms/step - loss: 0.6700 - accuracy: 0.6401 - val_loss: 0.6278 - val_accuracy: 0.7363\n",
      "Epoch 2/50\n",
      "12/12 [==============================] - 0s 5ms/step - loss: 0.5636 - accuracy: 0.7473 - val_loss: 0.5152 - val_accuracy: 0.8022\n",
      "Epoch 3/50\n",
      "12/12 [==============================] - 0s 6ms/step - loss: 0.4915 - accuracy: 0.8104 - val_loss: 0.4468 - val_accuracy: 0.8352\n",
      "Epoch 4/50\n",
      "12/12 [==============================] - 0s 5ms/step - loss: 0.4326 - accuracy: 0.8764 - val_loss: 0.3919 - val_accuracy: 0.8571\n",
      "Epoch 5/50\n",
      "12/12 [==============================] - 0s 5ms/step - loss: 0.3776 - accuracy: 0.8984 - val_loss: 0.3459 - val_accuracy: 0.8901\n",
      "Epoch 6/50\n",
      "12/12 [==============================] - 0s 5ms/step - loss: 0.3238 - accuracy: 0.9313 - val_loss: 0.3045 - val_accuracy: 0.8901\n",
      "Epoch 7/50\n",
      "12/12 [==============================] - 0s 6ms/step - loss: 0.2755 - accuracy: 0.9341 - val_loss: 0.2701 - val_accuracy: 0.9231\n",
      "Epoch 8/50\n",
      "12/12 [==============================] - 0s 5ms/step - loss: 0.2366 - accuracy: 0.9396 - val_loss: 0.2401 - val_accuracy: 0.9341\n",
      "Epoch 9/50\n",
      "12/12 [==============================] - 0s 6ms/step - loss: 0.2057 - accuracy: 0.9505 - val_loss: 0.2155 - val_accuracy: 0.9341\n",
      "Epoch 10/50\n",
      "12/12 [==============================] - 0s 6ms/step - loss: 0.1821 - accuracy: 0.9560 - val_loss: 0.1965 - val_accuracy: 0.9560\n",
      "Epoch 11/50\n",
      "12/12 [==============================] - 0s 5ms/step - loss: 0.1635 - accuracy: 0.9560 - val_loss: 0.1811 - val_accuracy: 0.9670\n",
      "Epoch 12/50\n",
      "12/12 [==============================] - 0s 5ms/step - loss: 0.1489 - accuracy: 0.9588 - val_loss: 0.1693 - val_accuracy: 0.9670\n",
      "Epoch 13/50\n",
      "12/12 [==============================] - 0s 6ms/step - loss: 0.1369 - accuracy: 0.9615 - val_loss: 0.1591 - val_accuracy: 0.9670\n",
      "Epoch 14/50\n",
      "12/12 [==============================] - 0s 6ms/step - loss: 0.1271 - accuracy: 0.9643 - val_loss: 0.1506 - val_accuracy: 0.9670\n",
      "Epoch 15/50\n",
      "12/12 [==============================] - 0s 5ms/step - loss: 0.1183 - accuracy: 0.9698 - val_loss: 0.1436 - val_accuracy: 0.9670\n",
      "Epoch 16/50\n",
      "12/12 [==============================] - 0s 6ms/step - loss: 0.1111 - accuracy: 0.9698 - val_loss: 0.1376 - val_accuracy: 0.9670\n",
      "Epoch 17/50\n",
      "12/12 [==============================] - 0s 7ms/step - loss: 0.1048 - accuracy: 0.9698 - val_loss: 0.1336 - val_accuracy: 0.9451\n",
      "Epoch 18/50\n",
      "12/12 [==============================] - 0s 6ms/step - loss: 0.0986 - accuracy: 0.9725 - val_loss: 0.1295 - val_accuracy: 0.9451\n",
      "Epoch 19/50\n",
      "12/12 [==============================] - 0s 7ms/step - loss: 0.0931 - accuracy: 0.9753 - val_loss: 0.1267 - val_accuracy: 0.9451\n",
      "Epoch 20/50\n",
      "12/12 [==============================] - 0s 7ms/step - loss: 0.0886 - accuracy: 0.9753 - val_loss: 0.1239 - val_accuracy: 0.9451\n",
      "Epoch 21/50\n",
      "12/12 [==============================] - 0s 7ms/step - loss: 0.0846 - accuracy: 0.9753 - val_loss: 0.1206 - val_accuracy: 0.9451\n",
      "Epoch 22/50\n",
      "12/12 [==============================] - 0s 9ms/step - loss: 0.0806 - accuracy: 0.9780 - val_loss: 0.1201 - val_accuracy: 0.9451\n",
      "Epoch 23/50\n",
      "12/12 [==============================] - 0s 7ms/step - loss: 0.0773 - accuracy: 0.9808 - val_loss: 0.1193 - val_accuracy: 0.9560\n",
      "Epoch 24/50\n",
      "12/12 [==============================] - 0s 8ms/step - loss: 0.0740 - accuracy: 0.9835 - val_loss: 0.1174 - val_accuracy: 0.9560\n",
      "Epoch 25/50\n",
      "12/12 [==============================] - 0s 7ms/step - loss: 0.0712 - accuracy: 0.9863 - val_loss: 0.1172 - val_accuracy: 0.9560\n",
      "Epoch 26/50\n",
      "12/12 [==============================] - 0s 6ms/step - loss: 0.0685 - accuracy: 0.9863 - val_loss: 0.1162 - val_accuracy: 0.9560\n",
      "Epoch 27/50\n",
      "12/12 [==============================] - 0s 7ms/step - loss: 0.0661 - accuracy: 0.9863 - val_loss: 0.1149 - val_accuracy: 0.9560\n",
      "Epoch 28/50\n",
      "12/12 [==============================] - 0s 7ms/step - loss: 0.0639 - accuracy: 0.9863 - val_loss: 0.1133 - val_accuracy: 0.9560\n",
      "Epoch 29/50\n",
      "12/12 [==============================] - 0s 7ms/step - loss: 0.0617 - accuracy: 0.9863 - val_loss: 0.1124 - val_accuracy: 0.9560\n",
      "Epoch 30/50\n",
      "12/12 [==============================] - 0s 7ms/step - loss: 0.0596 - accuracy: 0.9863 - val_loss: 0.1115 - val_accuracy: 0.9560\n",
      "Epoch 31/50\n",
      "12/12 [==============================] - 0s 7ms/step - loss: 0.0577 - accuracy: 0.9890 - val_loss: 0.1107 - val_accuracy: 0.9560\n",
      "Epoch 32/50\n",
      "12/12 [==============================] - 0s 7ms/step - loss: 0.0560 - accuracy: 0.9890 - val_loss: 0.1104 - val_accuracy: 0.9560\n",
      "Epoch 33/50\n",
      "12/12 [==============================] - 0s 6ms/step - loss: 0.0541 - accuracy: 0.9890 - val_loss: 0.1108 - val_accuracy: 0.9560\n",
      "Epoch 34/50\n",
      "12/12 [==============================] - 0s 6ms/step - loss: 0.0525 - accuracy: 0.9890 - val_loss: 0.1107 - val_accuracy: 0.9560\n",
      "Epoch 35/50\n",
      "12/12 [==============================] - 0s 7ms/step - loss: 0.0510 - accuracy: 0.9890 - val_loss: 0.1086 - val_accuracy: 0.9560\n",
      "Epoch 36/50\n",
      "12/12 [==============================] - 0s 7ms/step - loss: 0.0494 - accuracy: 0.9863 - val_loss: 0.1078 - val_accuracy: 0.9560\n",
      "Epoch 37/50\n",
      "12/12 [==============================] - 0s 7ms/step - loss: 0.0481 - accuracy: 0.9890 - val_loss: 0.1075 - val_accuracy: 0.9560\n",
      "Epoch 38/50\n",
      "12/12 [==============================] - 0s 5ms/step - loss: 0.0468 - accuracy: 0.9890 - val_loss: 0.1079 - val_accuracy: 0.9560\n",
      "Epoch 39/50\n",
      "12/12 [==============================] - 0s 6ms/step - loss: 0.0455 - accuracy: 0.9890 - val_loss: 0.1072 - val_accuracy: 0.9560\n",
      "Epoch 40/50\n",
      "12/12 [==============================] - 0s 6ms/step - loss: 0.0447 - accuracy: 0.9890 - val_loss: 0.1086 - val_accuracy: 0.9560\n",
      "Epoch 41/50\n",
      "12/12 [==============================] - 0s 6ms/step - loss: 0.0433 - accuracy: 0.9890 - val_loss: 0.1077 - val_accuracy: 0.9670\n",
      "Epoch 42/50\n",
      "12/12 [==============================] - 0s 6ms/step - loss: 0.0422 - accuracy: 0.9890 - val_loss: 0.1085 - val_accuracy: 0.9560\n",
      "Epoch 43/50\n",
      "12/12 [==============================] - 0s 5ms/step - loss: 0.0413 - accuracy: 0.9890 - val_loss: 0.1085 - val_accuracy: 0.9560\n",
      "Epoch 44/50\n",
      "12/12 [==============================] - 0s 5ms/step - loss: 0.0403 - accuracy: 0.9890 - val_loss: 0.1094 - val_accuracy: 0.9670\n",
      "Epoch 45/50\n",
      "12/12 [==============================] - 0s 5ms/step - loss: 0.0389 - accuracy: 0.9890 - val_loss: 0.1090 - val_accuracy: 0.9670\n",
      "Epoch 46/50\n",
      "12/12 [==============================] - 0s 6ms/step - loss: 0.0381 - accuracy: 0.9890 - val_loss: 0.1106 - val_accuracy: 0.9670\n",
      "Epoch 47/50\n",
      "12/12 [==============================] - 0s 6ms/step - loss: 0.0372 - accuracy: 0.9890 - val_loss: 0.1103 - val_accuracy: 0.9670\n",
      "Epoch 48/50\n",
      "12/12 [==============================] - 0s 6ms/step - loss: 0.0363 - accuracy: 0.9890 - val_loss: 0.1092 - val_accuracy: 0.9670\n",
      "Epoch 49/50\n",
      "12/12 [==============================] - 0s 5ms/step - loss: 0.0353 - accuracy: 0.9890 - val_loss: 0.1100 - val_accuracy: 0.9670\n",
      "Epoch 50/50\n",
      "12/12 [==============================] - 0s 5ms/step - loss: 0.0344 - accuracy: 0.9890 - val_loss: 0.1109 - val_accuracy: 0.9670\n"
     ]
    },
    {
     "data": {
      "text/plain": [
       "<keras.src.callbacks.History at 0x1f4010928d0>"
      ]
     },
     "execution_count": 11,
     "metadata": {},
     "output_type": "execute_result"
    }
   ],
   "source": [
    "# Train the model\n",
    "model.fit(X_train_scaled, y_train, epochs=50, batch_size=32, validation_split=0.2)"
   ]
  },
  {
   "cell_type": "code",
   "execution_count": 12,
   "id": "58416955",
   "metadata": {},
   "outputs": [
    {
     "name": "stdout",
     "output_type": "stream",
     "text": [
      "4/4 [==============================] - 0s 2ms/step\n"
     ]
    }
   ],
   "source": [
    "# Evaluate the model on the test set\n",
    "y_pred_prob = model.predict(X_test_scaled)\n",
    "y_pred = (y_pred_prob > 0.5).astype(int)"
   ]
  },
  {
   "cell_type": "code",
   "execution_count": 13,
   "id": "5524635e",
   "metadata": {},
   "outputs": [
    {
     "name": "stdout",
     "output_type": "stream",
     "text": [
      "Accuracy: 0.9649\n",
      "Classification Report:\n",
      "               precision    recall  f1-score   support\n",
      "\n",
      "           0       0.97      0.97      0.97        71\n",
      "           1       0.95      0.95      0.95        43\n",
      "\n",
      "    accuracy                           0.96       114\n",
      "   macro avg       0.96      0.96      0.96       114\n",
      "weighted avg       0.96      0.96      0.96       114\n",
      "\n"
     ]
    }
   ],
   "source": [
    "# Print accuracy and classification report\n",
    "accuracy = accuracy_score(y_test, y_pred)\n",
    "report = classification_report(y_test, y_pred)\n",
    "\n",
    "print(f\"Accuracy: {accuracy:.4f}\")\n",
    "print(\"Classification Report:\\n\", report)"
   ]
  },
  {
   "cell_type": "code",
   "execution_count": null,
   "id": "d674129e",
   "metadata": {},
   "outputs": [],
   "source": []
  }
 ],
 "metadata": {
  "kernelspec": {
   "display_name": "Python 3 (ipykernel)",
   "language": "python",
   "name": "python3"
  },
  "language_info": {
   "codemirror_mode": {
    "name": "ipython",
    "version": 3
   },
   "file_extension": ".py",
   "mimetype": "text/x-python",
   "name": "python",
   "nbconvert_exporter": "python",
   "pygments_lexer": "ipython3",
   "version": "3.11.5"
  }
 },
 "nbformat": 4,
 "nbformat_minor": 5
}
